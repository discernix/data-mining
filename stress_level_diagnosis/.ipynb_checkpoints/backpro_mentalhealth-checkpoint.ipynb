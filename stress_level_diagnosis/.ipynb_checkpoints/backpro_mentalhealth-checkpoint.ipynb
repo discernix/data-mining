{
 "cells": [
  {
   "cell_type": "markdown",
   "id": "3aa72046-8bcb-4e91-8c2e-0e2c125369e6",
   "metadata": {},
   "source": [
    "# Mental Health Classification with Neural Network"
   ]
  },
  {
   "cell_type": "code",
   "execution_count": null,
   "id": "29872e24-1874-4268-a80c-465eda63606c",
   "metadata": {},
   "outputs": [],
   "source": [
    "print(2)"
   ]
  },
  {
   "cell_type": "code",
   "execution_count": null,
   "id": "76bd567c-4909-4666-81de-3e00c4ec63f0",
   "metadata": {},
   "outputs": [],
   "source": [
    "import pandas as pd\n",
    "import numpy as np\n",
    "import matplotlib.pyplot as plt\n",
    "import matplotlib.colors as colors\n",
    "import seaborn as sns\n",
    "import math\n",
    "import tensorflow as tf\n",
    "import keras\n",
    "import keras_tuner as kt\n",
    "\n",
    "from sklearn.svm import SVC\n",
    "from sklearn.naive_bayes import GaussianNB\n",
    "from sklearn.neighbors import KNeighborsClassifier\n",
    "from sklearn.metrics import confusion_matrix, ConfusionMatrixDisplay, classification_report\n",
    "\n",
    "from tensorflow.keras import callbacks\n",
    "from tensorflow.keras.utils import to_categorical\n",
    "from tensorflow.keras.layers import Dense, Activation, Dropout, InputLayer, Input, BatchNormalization\n",
    "from tensorflow.keras.optimizers import Adam\n",
    "from tensorflow.keras.metrics import Accuracy\n",
    "from keras import layers, Sequential\n",
    "from sklearn.model_selection import train_test_split, GridSearchCV\n",
    "from sklearn.preprocessing import scale, OneHotEncoder, StandardScaler\n",
    "from sklearn.metrics import confusion_matrix, ConfusionMatrixDisplay, classification_report\n",
    "from keras import backend as K"
   ]
  },
  {
   "cell_type": "code",
   "execution_count": null,
   "id": "88326d3d-b44b-4639-9295-da93b85e90a9",
   "metadata": {},
   "outputs": [],
   "source": [
    "df = pd.read_csv('../datasets/mentalhealth.csv')\n",
    "# df = df.iloc[0:3000]\n",
    "df.head()"
   ]
  },
  {
   "cell_type": "code",
   "execution_count": null,
   "id": "a5a933ff-6ba5-4c27-b733-03bf13d2f25b",
   "metadata": {},
   "outputs": [],
   "source": [
    "df.drop(['Timestamp', 'Gender', 'Country'], axis=1, inplace=True)"
   ]
  },
  {
   "cell_type": "code",
   "execution_count": null,
   "id": "c70699cd-92b2-4c3a-82e4-8c0e59bfa6a0",
   "metadata": {},
   "outputs": [],
   "source": [
    "df.head()"
   ]
  },
  {
   "cell_type": "markdown",
   "id": "ac118a52-4a7a-4170-80bf-04712a5f92e5",
   "metadata": {},
   "source": [
    "## Mencari info dari data"
   ]
  },
  {
   "cell_type": "code",
   "execution_count": null,
   "id": "58922cd0-2b9c-478b-8c78-01c12f6c6cd8",
   "metadata": {},
   "outputs": [],
   "source": [
    "df.info()"
   ]
  },
  {
   "cell_type": "code",
   "execution_count": null,
   "id": "e8b98115-f654-4ffd-b095-cf4557b73dc6",
   "metadata": {},
   "outputs": [],
   "source": [
    "df['self_employed'].dropna(inplace=True)"
   ]
  },
  {
   "cell_type": "code",
   "execution_count": null,
   "id": "882e4aab-ed2f-4ff4-bc74-5a3a08cbe2bc",
   "metadata": {},
   "outputs": [],
   "source": [
    "df.info()"
   ]
  },
  {
   "cell_type": "code",
   "execution_count": null,
   "id": "79ca2cc0-44df-4a77-aaae-f6ac5c3ec89a",
   "metadata": {},
   "outputs": [],
   "source": [
    "df.columns"
   ]
  },
  {
   "cell_type": "code",
   "execution_count": null,
   "id": "52b87c9a-e63b-4413-b5d3-cedb114649e3",
   "metadata": {},
   "outputs": [],
   "source": [
    "df['treatment'].value_counts()"
   ]
  },
  {
   "cell_type": "code",
   "execution_count": null,
   "id": "867d815d-b036-4386-971b-cd6e8629dfb0",
   "metadata": {},
   "outputs": [],
   "source": [
    "df.replace({\n",
    "    'self_employed': {\n",
    "        'Yes': 1,\n",
    "        'No': 0\n",
    "    },\n",
    "    'family_history': {\n",
    "        'Yes': 1,\n",
    "        'No': 0\n",
    "    },\n",
    "    'treatment': {\n",
    "        'Yes': 1,\n",
    "        'No': 0\n",
    "    },\n",
    "    'Days_Indoors': {\n",
    "        'Go out Every day': 1,\n",
    "        '1-14 days': 2,\n",
    "        '15-30 days': 3,\n",
    "        '31-60 days': 4,\n",
    "        'More than 2 months': 5\n",
    "    },\n",
    "    'Growing_Stress': {\n",
    "        'Yes': 3,\n",
    "        'Maybe': 2,\n",
    "        'No': 1\n",
    "    },\n",
    "    'Changes_Habits': {\n",
    "        'Yes': 3,\n",
    "        'Maybe': 2,\n",
    "        'No': 1\n",
    "    },\n",
    "    'Mental_Health_History': {\n",
    "        'Yes': 3,\n",
    "        'Maybe': 2,\n",
    "        'No': 1\n",
    "    },\n",
    "    'Mood_Swings': {\n",
    "        'Medium': 2,\n",
    "        'Low': 1,\n",
    "        'High': 3\n",
    "    },\n",
    "    'Coping_Struggles': {\n",
    "        'Yes': 1,\n",
    "        'No': 0\n",
    "    },\n",
    "    'Work_Interest': {\n",
    "        'Yes': 3,\n",
    "        'Maybe': 2,\n",
    "        'No': 1\n",
    "    },\n",
    "    'Social_Weakness': {\n",
    "        'Yes': 3,\n",
    "        'No': 1,\n",
    "        'Maybe': 2\n",
    "    },\n",
    "    'mental_health_interview': {\n",
    "        'Yes': 3,\n",
    "        'No': 1,\n",
    "        'Maybe': 2\n",
    "    },\n",
    "    'care_options': {\n",
    "        'Not sure': 2,\n",
    "        'No': 1,\n",
    "        'Yes': 3,\n",
    "        'Ye': 3\n",
    "    }\n",
    "}, inplace=True)"
   ]
  },
  {
   "cell_type": "code",
   "execution_count": null,
   "id": "8d01520c-90f0-4bf1-a10d-d23b30ddc734",
   "metadata": {},
   "outputs": [],
   "source": [
    "for column in df.columns:\n",
    "    print(f\"Column Name: {column} - {df[column].unique()}\")"
   ]
  },
  {
   "cell_type": "code",
   "execution_count": null,
   "id": "1a3780dd-119a-45cb-80f6-baa5ebdfb2e5",
   "metadata": {},
   "outputs": [],
   "source": [
    "df.tail()"
   ]
  },
  {
   "cell_type": "code",
   "execution_count": null,
   "id": "00f543f5-bff8-4bc9-a95d-43bde5232a64",
   "metadata": {},
   "outputs": [],
   "source": [
    "df = pd.get_dummies(df, columns=['Occupation'])\n",
    "df.tail()"
   ]
  },
  {
   "cell_type": "code",
   "execution_count": null,
   "id": "56f803c3-54f4-49a5-9bee-82a1c974b6db",
   "metadata": {},
   "outputs": [],
   "source": [
    "X = df.drop(['mental_health_interview'], axis=1)\n",
    "y = df['mental_health_interview']"
   ]
  },
  {
   "cell_type": "markdown",
   "id": "04dc6191-ef50-4f08-8c8b-e7d29bad07a6",
   "metadata": {},
   "source": [
    "## Split the Data"
   ]
  },
  {
   "cell_type": "code",
   "execution_count": null,
   "id": "d779a6fa-6b02-4527-90d3-f0a37455bd6c",
   "metadata": {},
   "outputs": [],
   "source": [
    "X_train, X_test, y_train, y_test = train_test_split(X, y, random_state=42, test_size=0.2)\n",
    "\n",
    "X_train = scale(X_train)\n",
    "X_test = scale(X_test)\n",
    "\n",
    "y_train = to_categorical(y_train)\n",
    "y_test = to_categorical(y_test)\n",
    "\n",
    "print(f\"\"\"\n",
    "X_train shape = {X_train.shape}\n",
    "y_train shape = {y_train.shape}\n",
    "X_test shape = {X_test.shape}\n",
    "y_test shape = {y_test.shape}\n",
    "\"\"\")"
   ]
  },
  {
   "cell_type": "markdown",
   "id": "a6de3758-f201-41d8-8081-de5e539b1fac",
   "metadata": {},
   "source": [
    "## Create Model"
   ]
  },
  {
   "cell_type": "code",
   "execution_count": null,
   "id": "4dfe0300-4ae2-4804-9db6-1d5354cb1bc7",
   "metadata": {},
   "outputs": [],
   "source": [
    "new_model = Sequential([\n",
    "    Input((X_train.shape[1],)),\n",
    "    Dense(4, activation='relu'),\n",
    "    # Dense(128, activation='relu'),\n",
    "    # Dense(64, activation='relu'),\n",
    "    Dense(y_train.shape[1], activation='softmax'),\n",
    "])\n",
    "\n",
    "new_model.compile(optimizer=tf.keras.optimizers.Adam(learning_rate=0.1), loss='categorical_crossentropy', metrics=['accuracy'])\n",
    "\n",
    "new_model.summary()"
   ]
  },
  {
   "cell_type": "code",
   "execution_count": null,
   "id": "ed3e1aa0-dcd2-4431-b0f7-353b11ccbdc0",
   "metadata": {},
   "outputs": [],
   "source": [
    "new_model.fit(X_train, y_train, validation_split=0.2, epochs=50, batch_size=1024)"
   ]
  },
  {
   "cell_type": "code",
   "execution_count": null,
   "id": "a5a267cb-d715-4c74-a586-809831c4cc7f",
   "metadata": {},
   "outputs": [],
   "source": []
  }
 ],
 "metadata": {
  "kernelspec": {
   "display_name": "Python 3 (ipykernel)",
   "language": "python",
   "name": "python3"
  },
  "language_info": {
   "codemirror_mode": {
    "name": "ipython",
    "version": 3
   },
   "file_extension": ".py",
   "mimetype": "text/x-python",
   "name": "python",
   "nbconvert_exporter": "python",
   "pygments_lexer": "ipython3",
   "version": "3.11.4"
  }
 },
 "nbformat": 4,
 "nbformat_minor": 5
}
