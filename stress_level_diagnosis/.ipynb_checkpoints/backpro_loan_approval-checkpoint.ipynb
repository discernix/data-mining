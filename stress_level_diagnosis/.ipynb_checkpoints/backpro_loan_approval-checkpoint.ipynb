{
 "cells": [
  {
   "cell_type": "code",
   "execution_count": 37,
   "id": "2373166e-9e45-4733-a9d2-1a962d896a8c",
   "metadata": {},
   "outputs": [],
   "source": [
    "import pandas as pd\n",
    "import numpy as np\n",
    "import matplotlib.pyplot as plt\n",
    "import matplotlib.colors as colors\n",
    "import seaborn as sns\n",
    "import math\n",
    "import tensorflow as tf\n",
    "import keras\n",
    "import keras_tuner as kt\n",
    "import matplotlib.pyplot as plt\n",
    "import seaborn as sns\n",
    "\n",
    "from tensorflow.keras import callbacks\n",
    "from tensorflow.keras.utils import to_categorical\n",
    "from tensorflow.keras.layers import Dense, Activation, Dropout, InputLayer, Input, BatchNormalization\n",
    "from tensorflow.keras.optimizers import Adam\n",
    "from tensorflow.keras.metrics import Accuracy\n",
    "from keras import layers, Sequential\n",
    "from sklearn.model_selection import train_test_split, GridSearchCV\n",
    "from sklearn.preprocessing import scale\n",
    "from sklearn.metrics import confusion_matrix, ConfusionMatrixDisplay, classification_report\n",
    "from keras import backend as K"
   ]
  },
  {
   "cell_type": "code",
   "execution_count": 38,
   "id": "6787ee27-1f4f-4af8-aded-ad6b402c7d25",
   "metadata": {},
   "outputs": [
    {
     "name": "stdout",
     "output_type": "stream",
     "text": [
      "(4269, 13)\n",
      "loan_id                      int64\n",
      "no_of_dependents             int64\n",
      "education                   object\n",
      "self_employed               object\n",
      "income_annum                 int64\n",
      "loan_amount                  int64\n",
      "loan_term                    int64\n",
      "cibil_score                  int64\n",
      "residential_assets_value     int64\n",
      "commercial_assets_value      int64\n",
      "luxury_assets_value          int64\n",
      "bank_asset_value             int64\n",
      "loan_status                 object\n",
      "dtype: object\n"
     ]
    }
   ],
   "source": [
    "df = pd.read_csv('../split_train_test_data./loan_approval_dataset.csv')\n",
    "df = df.rename(columns=lambda x: x.strip())\n",
    "print(df.shape)\n",
    "print(df.dtypes)"
   ]
  },
  {
   "cell_type": "code",
   "execution_count": 39,
   "id": "e038c3a6-f1cc-4377-bc43-b6e84fa69bbc",
   "metadata": {},
   "outputs": [
    {
     "name": "stdout",
     "output_type": "stream",
     "text": [
      "<class 'pandas.core.frame.DataFrame'>\n",
      "RangeIndex: 4269 entries, 0 to 4268\n",
      "Data columns (total 12 columns):\n",
      " #   Column                    Non-Null Count  Dtype\n",
      "---  ------                    --------------  -----\n",
      " 0   no_of_dependents          4269 non-null   int64\n",
      " 1   education                 4269 non-null   int64\n",
      " 2   self_employed             4269 non-null   int64\n",
      " 3   income_annum              4269 non-null   int64\n",
      " 4   loan_amount               4269 non-null   int64\n",
      " 5   loan_term                 4269 non-null   int64\n",
      " 6   cibil_score               4269 non-null   int64\n",
      " 7   residential_assets_value  4269 non-null   int64\n",
      " 8   commercial_assets_value   4269 non-null   int64\n",
      " 9   luxury_assets_value       4269 non-null   int64\n",
      " 10  bank_asset_value          4269 non-null   int64\n",
      " 11  loan_status               4269 non-null   int64\n",
      "dtypes: int64(12)\n",
      "memory usage: 400.3 KB\n"
     ]
    }
   ],
   "source": [
    "df = df.drop('loan_id', axis=1).copy()\n",
    "df = df.replace({'self_employed': {' No': 0, ' Yes': 1}})\n",
    "df = df.replace({'education': {' Not Graduate': 0, ' Graduate': 1}})\n",
    "df = df.replace({'loan_status': {' Approved': 1, ' Rejected': 0}})\n",
    "# df.head()\n",
    "df.info()"
   ]
  },
  {
   "cell_type": "code",
   "execution_count": 40,
   "id": "bc2ecb89-c14e-4e04-b89a-31a51758b19b",
   "metadata": {},
   "outputs": [],
   "source": [
    "X = df.drop('loan_status', axis=1).copy()\n",
    "y = df['loan_status'].copy()"
   ]
  },
  {
   "cell_type": "code",
   "execution_count": 70,
   "id": "f9b9afd4-43f5-43b1-a603-37e86d1cda31",
   "metadata": {},
   "outputs": [
    {
     "name": "stdout",
     "output_type": "stream",
     "text": [
      "\n",
      "X_train shape = (3415, 11)\n",
      "X_test shape = (854, 11)\n",
      "y_train shape = (3415, 2)\n",
      "y_test shape = (854, 2)\n",
      "\n"
     ]
    }
   ],
   "source": [
    "X_train, X_test, y_train, y_test = train_test_split(X, y, random_state=42, test_size=0.2)\n",
    "X_train = scale(X_train)\n",
    "X_test = scale(X_test)\n",
    "\n",
    "y_train = to_categorical(y_train)\n",
    "y_test = to_categorical(y_test)\n",
    "\n",
    "print(f\"\"\"\n",
    "X_train shape = {X_train.shape}\n",
    "X_test shape = {X_test.shape}\n",
    "y_train shape = {y_train.shape}\n",
    "y_test shape = {y_test.shape}\n",
    "\"\"\")"
   ]
  },
  {
   "cell_type": "code",
   "execution_count": 76,
   "id": "6fe63b9b-0edb-46dc-a90a-ade0027682bd",
   "metadata": {},
   "outputs": [
    {
     "name": "stdout",
     "output_type": "stream",
     "text": [
      "[0. 1.]\n"
     ]
    },
    {
     "data": {
      "text/plain": [
       "683.0"
      ]
     },
     "execution_count": 76,
     "metadata": {},
     "output_type": "execute_result"
    }
   ],
   "source": [
    "print(y_train[2])\n",
    "X_train.shape[0] * 0.2"
   ]
  },
  {
   "cell_type": "markdown",
   "id": "55b29384-ca77-4222-afab-26c43c3ff96b",
   "metadata": {},
   "source": [
    "## Create Model"
   ]
  },
  {
   "cell_type": "code",
   "execution_count": 186,
   "id": "264dea3b-8d50-47a9-a656-29ad753345c2",
   "metadata": {},
   "outputs": [],
   "source": [
    "model = Sequential()\n",
    "model.add(Input((X_train.shape[1], )))\n",
    "model.add(Dense(8, activation='relu'))\n",
    "# model.add(Dense(256, activation='relu'))\n",
    "# model.add(Dense(256, activation='relu'))\n",
    "# model.add(Dense(128, activation='relu'))\n",
    "model.add(Dense(2, activation='softmax'))\n",
    "\n",
    "model.compile(optimizer=tf.keras.optimizers.Adam(learning_rate=0.001), loss='categorical_crossentropy', metrics=['accuracy'])"
   ]
  },
  {
   "cell_type": "code",
   "execution_count": 187,
   "id": "644ff743-a151-47ad-bba1-a58ed27d866a",
   "metadata": {},
   "outputs": [
    {
     "name": "stdout",
     "output_type": "stream",
     "text": [
      "Epoch 1/100\n",
      "\u001b[1m86/86\u001b[0m \u001b[32m━━━━━━━━━━━━━━━━━━━━\u001b[0m\u001b[37m\u001b[0m \u001b[1m2s\u001b[0m 7ms/step - accuracy: 0.5702 - loss: 1.0407 - val_accuracy: 0.6193 - val_loss: 0.7560\n",
      "Epoch 2/100\n",
      "\u001b[1m86/86\u001b[0m \u001b[32m━━━━━━━━━━━━━━━━━━━━\u001b[0m\u001b[37m\u001b[0m \u001b[1m0s\u001b[0m 4ms/step - accuracy: 0.6431 - loss: 0.6833 - val_accuracy: 0.6867 - val_loss: 0.5436\n",
      "Epoch 3/100\n",
      "\u001b[1m86/86\u001b[0m \u001b[32m━━━━━━━━━━━━━━━━━━━━\u001b[0m\u001b[37m\u001b[0m \u001b[1m1s\u001b[0m 4ms/step - accuracy: 0.7436 - loss: 0.5135 - val_accuracy: 0.7789 - val_loss: 0.4427\n",
      "Epoch 4/100\n",
      "\u001b[1m86/86\u001b[0m \u001b[32m━━━━━━━━━━━━━━━━━━━━\u001b[0m\u001b[37m\u001b[0m \u001b[1m1s\u001b[0m 4ms/step - accuracy: 0.8136 - loss: 0.4252 - val_accuracy: 0.8536 - val_loss: 0.3879\n",
      "Epoch 5/100\n",
      "\u001b[1m86/86\u001b[0m \u001b[32m━━━━━━━━━━━━━━━━━━━━\u001b[0m\u001b[37m\u001b[0m \u001b[1m1s\u001b[0m 4ms/step - accuracy: 0.8307 - loss: 0.3783 - val_accuracy: 0.8829 - val_loss: 0.3458\n",
      "Epoch 6/100\n",
      "\u001b[1m86/86\u001b[0m \u001b[32m━━━━━━━━━━━━━━━━━━━━\u001b[0m\u001b[37m\u001b[0m \u001b[1m0s\u001b[0m 4ms/step - accuracy: 0.8635 - loss: 0.3388 - val_accuracy: 0.8917 - val_loss: 0.3102\n",
      "Epoch 7/100\n",
      "\u001b[1m86/86\u001b[0m \u001b[32m━━━━━━━━━━━━━━━━━━━━\u001b[0m\u001b[37m\u001b[0m \u001b[1m0s\u001b[0m 3ms/step - accuracy: 0.8799 - loss: 0.3148 - val_accuracy: 0.9092 - val_loss: 0.2797\n",
      "Epoch 8/100\n",
      "\u001b[1m86/86\u001b[0m \u001b[32m━━━━━━━━━━━━━━━━━━━━\u001b[0m\u001b[37m\u001b[0m \u001b[1m0s\u001b[0m 3ms/step - accuracy: 0.8832 - loss: 0.2889 - val_accuracy: 0.9209 - val_loss: 0.2532\n",
      "Epoch 9/100\n",
      "\u001b[1m86/86\u001b[0m \u001b[32m━━━━━━━━━━━━━━━━━━━━\u001b[0m\u001b[37m\u001b[0m \u001b[1m0s\u001b[0m 3ms/step - accuracy: 0.8938 - loss: 0.2689 - val_accuracy: 0.9224 - val_loss: 0.2316\n",
      "Epoch 10/100\n",
      "\u001b[1m86/86\u001b[0m \u001b[32m━━━━━━━━━━━━━━━━━━━━\u001b[0m\u001b[37m\u001b[0m \u001b[1m1s\u001b[0m 4ms/step - accuracy: 0.9144 - loss: 0.2367 - val_accuracy: 0.9327 - val_loss: 0.2150\n",
      "Epoch 11/100\n",
      "\u001b[1m86/86\u001b[0m \u001b[32m━━━━━━━━━━━━━━━━━━━━\u001b[0m\u001b[37m\u001b[0m \u001b[1m1s\u001b[0m 4ms/step - accuracy: 0.9201 - loss: 0.2306 - val_accuracy: 0.9370 - val_loss: 0.2017\n",
      "Epoch 12/100\n",
      "\u001b[1m86/86\u001b[0m \u001b[32m━━━━━━━━━━━━━━━━━━━━\u001b[0m\u001b[37m\u001b[0m \u001b[1m1s\u001b[0m 4ms/step - accuracy: 0.9232 - loss: 0.2273 - val_accuracy: 0.9444 - val_loss: 0.1910\n",
      "Epoch 13/100\n",
      "\u001b[1m86/86\u001b[0m \u001b[32m━━━━━━━━━━━━━━━━━━━━\u001b[0m\u001b[37m\u001b[0m \u001b[1m1s\u001b[0m 3ms/step - accuracy: 0.9206 - loss: 0.2171 - val_accuracy: 0.9473 - val_loss: 0.1818\n",
      "Epoch 14/100\n",
      "\u001b[1m86/86\u001b[0m \u001b[32m━━━━━━━━━━━━━━━━━━━━\u001b[0m\u001b[37m\u001b[0m \u001b[1m0s\u001b[0m 4ms/step - accuracy: 0.9288 - loss: 0.2123 - val_accuracy: 0.9458 - val_loss: 0.1744\n",
      "Epoch 15/100\n",
      "\u001b[1m86/86\u001b[0m \u001b[32m━━━━━━━━━━━━━━━━━━━━\u001b[0m\u001b[37m\u001b[0m \u001b[1m0s\u001b[0m 3ms/step - accuracy: 0.9219 - loss: 0.2044 - val_accuracy: 0.9502 - val_loss: 0.1682\n",
      "Epoch 16/100\n",
      "\u001b[1m86/86\u001b[0m \u001b[32m━━━━━━━━━━━━━━━━━━━━\u001b[0m\u001b[37m\u001b[0m \u001b[1m0s\u001b[0m 4ms/step - accuracy: 0.9348 - loss: 0.1938 - val_accuracy: 0.9531 - val_loss: 0.1627\n",
      "Epoch 17/100\n",
      "\u001b[1m86/86\u001b[0m \u001b[32m━━━━━━━━━━━━━━━━━━━━\u001b[0m\u001b[37m\u001b[0m \u001b[1m0s\u001b[0m 3ms/step - accuracy: 0.9338 - loss: 0.1841 - val_accuracy: 0.9546 - val_loss: 0.1582\n",
      "Epoch 18/100\n",
      "\u001b[1m86/86\u001b[0m \u001b[32m━━━━━━━━━━━━━━━━━━━━\u001b[0m\u001b[37m\u001b[0m \u001b[1m0s\u001b[0m 4ms/step - accuracy: 0.9307 - loss: 0.1844 - val_accuracy: 0.9561 - val_loss: 0.1543\n",
      "Epoch 19/100\n",
      "\u001b[1m86/86\u001b[0m \u001b[32m━━━━━━━━━━━━━━━━━━━━\u001b[0m\u001b[37m\u001b[0m \u001b[1m0s\u001b[0m 4ms/step - accuracy: 0.9433 - loss: 0.1760 - val_accuracy: 0.9575 - val_loss: 0.1519\n",
      "Epoch 20/100\n",
      "\u001b[1m86/86\u001b[0m \u001b[32m━━━━━━━━━━━━━━━━━━━━\u001b[0m\u001b[37m\u001b[0m \u001b[1m0s\u001b[0m 3ms/step - accuracy: 0.9411 - loss: 0.1640 - val_accuracy: 0.9605 - val_loss: 0.1493\n",
      "Epoch 21/100\n",
      "\u001b[1m86/86\u001b[0m \u001b[32m━━━━━━━━━━━━━━━━━━━━\u001b[0m\u001b[37m\u001b[0m \u001b[1m0s\u001b[0m 3ms/step - accuracy: 0.9416 - loss: 0.1647 - val_accuracy: 0.9590 - val_loss: 0.1464\n",
      "Epoch 22/100\n",
      "\u001b[1m86/86\u001b[0m \u001b[32m━━━━━━━━━━━━━━━━━━━━\u001b[0m\u001b[37m\u001b[0m \u001b[1m1s\u001b[0m 4ms/step - accuracy: 0.9419 - loss: 0.1716 - val_accuracy: 0.9561 - val_loss: 0.1455\n",
      "Epoch 23/100\n",
      "\u001b[1m86/86\u001b[0m \u001b[32m━━━━━━━━━━━━━━━━━━━━\u001b[0m\u001b[37m\u001b[0m \u001b[1m0s\u001b[0m 3ms/step - accuracy: 0.9411 - loss: 0.1773 - val_accuracy: 0.9561 - val_loss: 0.1437\n",
      "Epoch 24/100\n",
      "\u001b[1m86/86\u001b[0m \u001b[32m━━━━━━━━━━━━━━━━━━━━\u001b[0m\u001b[37m\u001b[0m \u001b[1m0s\u001b[0m 4ms/step - accuracy: 0.9438 - loss: 0.1651 - val_accuracy: 0.9575 - val_loss: 0.1420\n",
      "Epoch 25/100\n",
      "\u001b[1m86/86\u001b[0m \u001b[32m━━━━━━━━━━━━━━━━━━━━\u001b[0m\u001b[37m\u001b[0m \u001b[1m1s\u001b[0m 4ms/step - accuracy: 0.9488 - loss: 0.1525 - val_accuracy: 0.9590 - val_loss: 0.1394\n",
      "Epoch 26/100\n",
      "\u001b[1m86/86\u001b[0m \u001b[32m━━━━━━━━━━━━━━━━━━━━\u001b[0m\u001b[37m\u001b[0m \u001b[1m1s\u001b[0m 4ms/step - accuracy: 0.9442 - loss: 0.1664 - val_accuracy: 0.9590 - val_loss: 0.1389\n",
      "Epoch 27/100\n",
      "\u001b[1m86/86\u001b[0m \u001b[32m━━━━━━━━━━━━━━━━━━━━\u001b[0m\u001b[37m\u001b[0m \u001b[1m0s\u001b[0m 4ms/step - accuracy: 0.9483 - loss: 0.1535 - val_accuracy: 0.9590 - val_loss: 0.1374\n",
      "Epoch 28/100\n",
      "\u001b[1m86/86\u001b[0m \u001b[32m━━━━━━━━━━━━━━━━━━━━\u001b[0m\u001b[37m\u001b[0m \u001b[1m1s\u001b[0m 4ms/step - accuracy: 0.9483 - loss: 0.1588 - val_accuracy: 0.9575 - val_loss: 0.1356\n",
      "Epoch 29/100\n",
      "\u001b[1m86/86\u001b[0m \u001b[32m━━━━━━━━━━━━━━━━━━━━\u001b[0m\u001b[37m\u001b[0m \u001b[1m0s\u001b[0m 3ms/step - accuracy: 0.9409 - loss: 0.1711 - val_accuracy: 0.9605 - val_loss: 0.1350\n",
      "Epoch 30/100\n",
      "\u001b[1m86/86\u001b[0m \u001b[32m━━━━━━━━━━━━━━━━━━━━\u001b[0m\u001b[37m\u001b[0m \u001b[1m0s\u001b[0m 3ms/step - accuracy: 0.9526 - loss: 0.1533 - val_accuracy: 0.9605 - val_loss: 0.1344\n",
      "Epoch 31/100\n",
      "\u001b[1m86/86\u001b[0m \u001b[32m━━━━━━━━━━━━━━━━━━━━\u001b[0m\u001b[37m\u001b[0m \u001b[1m0s\u001b[0m 3ms/step - accuracy: 0.9410 - loss: 0.1578 - val_accuracy: 0.9590 - val_loss: 0.1333\n",
      "Epoch 32/100\n",
      "\u001b[1m86/86\u001b[0m \u001b[32m━━━━━━━━━━━━━━━━━━━━\u001b[0m\u001b[37m\u001b[0m \u001b[1m0s\u001b[0m 3ms/step - accuracy: 0.9429 - loss: 0.1505 - val_accuracy: 0.9590 - val_loss: 0.1328\n",
      "Epoch 33/100\n",
      "\u001b[1m86/86\u001b[0m \u001b[32m━━━━━━━━━━━━━━━━━━━━\u001b[0m\u001b[37m\u001b[0m \u001b[1m0s\u001b[0m 4ms/step - accuracy: 0.9468 - loss: 0.1420 - val_accuracy: 0.9575 - val_loss: 0.1323\n",
      "Epoch 34/100\n",
      "\u001b[1m86/86\u001b[0m \u001b[32m━━━━━━━━━━━━━━━━━━━━\u001b[0m\u001b[37m\u001b[0m \u001b[1m1s\u001b[0m 4ms/step - accuracy: 0.9500 - loss: 0.1500 - val_accuracy: 0.9590 - val_loss: 0.1309\n",
      "Epoch 35/100\n",
      "\u001b[1m86/86\u001b[0m \u001b[32m━━━━━━━━━━━━━━━━━━━━\u001b[0m\u001b[37m\u001b[0m \u001b[1m1s\u001b[0m 3ms/step - accuracy: 0.9490 - loss: 0.1509 - val_accuracy: 0.9605 - val_loss: 0.1291\n",
      "Epoch 36/100\n",
      "\u001b[1m86/86\u001b[0m \u001b[32m━━━━━━━━━━━━━━━━━━━━\u001b[0m\u001b[37m\u001b[0m \u001b[1m0s\u001b[0m 4ms/step - accuracy: 0.9512 - loss: 0.1413 - val_accuracy: 0.9575 - val_loss: 0.1286\n",
      "Epoch 37/100\n",
      "\u001b[1m86/86\u001b[0m \u001b[32m━━━━━━━━━━━━━━━━━━━━\u001b[0m\u001b[37m\u001b[0m \u001b[1m0s\u001b[0m 3ms/step - accuracy: 0.9547 - loss: 0.1398 - val_accuracy: 0.9605 - val_loss: 0.1266\n",
      "Epoch 38/100\n",
      "\u001b[1m86/86\u001b[0m \u001b[32m━━━━━━━━━━━━━━━━━━━━\u001b[0m\u001b[37m\u001b[0m \u001b[1m0s\u001b[0m 3ms/step - accuracy: 0.9507 - loss: 0.1550 - val_accuracy: 0.9619 - val_loss: 0.1258\n",
      "Epoch 39/100\n",
      "\u001b[1m86/86\u001b[0m \u001b[32m━━━━━━━━━━━━━━━━━━━━\u001b[0m\u001b[37m\u001b[0m \u001b[1m0s\u001b[0m 4ms/step - accuracy: 0.9505 - loss: 0.1354 - val_accuracy: 0.9590 - val_loss: 0.1261\n",
      "Epoch 40/100\n",
      "\u001b[1m86/86\u001b[0m \u001b[32m━━━━━━━━━━━━━━━━━━━━\u001b[0m\u001b[37m\u001b[0m \u001b[1m1s\u001b[0m 4ms/step - accuracy: 0.9542 - loss: 0.1319 - val_accuracy: 0.9590 - val_loss: 0.1248\n",
      "Epoch 41/100\n",
      "\u001b[1m86/86\u001b[0m \u001b[32m━━━━━━━━━━━━━━━━━━━━\u001b[0m\u001b[37m\u001b[0m \u001b[1m1s\u001b[0m 4ms/step - accuracy: 0.9503 - loss: 0.1522 - val_accuracy: 0.9590 - val_loss: 0.1239\n",
      "Epoch 42/100\n",
      "\u001b[1m86/86\u001b[0m \u001b[32m━━━━━━━━━━━━━━━━━━━━\u001b[0m\u001b[37m\u001b[0m \u001b[1m1s\u001b[0m 4ms/step - accuracy: 0.9563 - loss: 0.1293 - val_accuracy: 0.9575 - val_loss: 0.1237\n",
      "Epoch 43/100\n",
      "\u001b[1m86/86\u001b[0m \u001b[32m━━━━━━━━━━━━━━━━━━━━\u001b[0m\u001b[37m\u001b[0m \u001b[1m1s\u001b[0m 4ms/step - accuracy: 0.9524 - loss: 0.1417 - val_accuracy: 0.9575 - val_loss: 0.1226\n",
      "Epoch 44/100\n",
      "\u001b[1m86/86\u001b[0m \u001b[32m━━━━━━━━━━━━━━━━━━━━\u001b[0m\u001b[37m\u001b[0m \u001b[1m1s\u001b[0m 4ms/step - accuracy: 0.9531 - loss: 0.1278 - val_accuracy: 0.9575 - val_loss: 0.1226\n",
      "Epoch 45/100\n",
      "\u001b[1m86/86\u001b[0m \u001b[32m━━━━━━━━━━━━━━━━━━━━\u001b[0m\u001b[37m\u001b[0m \u001b[1m1s\u001b[0m 3ms/step - accuracy: 0.9607 - loss: 0.1142 - val_accuracy: 0.9590 - val_loss: 0.1218\n",
      "Epoch 46/100\n",
      "\u001b[1m86/86\u001b[0m \u001b[32m━━━━━━━━━━━━━━━━━━━━\u001b[0m\u001b[37m\u001b[0m \u001b[1m0s\u001b[0m 4ms/step - accuracy: 0.9498 - loss: 0.1401 - val_accuracy: 0.9619 - val_loss: 0.1207\n",
      "Epoch 47/100\n",
      "\u001b[1m86/86\u001b[0m \u001b[32m━━━━━━━━━━━━━━━━━━━━\u001b[0m\u001b[37m\u001b[0m \u001b[1m1s\u001b[0m 4ms/step - accuracy: 0.9488 - loss: 0.1499 - val_accuracy: 0.9605 - val_loss: 0.1203\n",
      "Epoch 48/100\n",
      "\u001b[1m86/86\u001b[0m \u001b[32m━━━━━━━━━━━━━━━━━━━━\u001b[0m\u001b[37m\u001b[0m \u001b[1m1s\u001b[0m 4ms/step - accuracy: 0.9565 - loss: 0.1325 - val_accuracy: 0.9605 - val_loss: 0.1207\n",
      "Epoch 49/100\n",
      "\u001b[1m86/86\u001b[0m \u001b[32m━━━━━━━━━━━━━━━━━━━━\u001b[0m\u001b[37m\u001b[0m \u001b[1m0s\u001b[0m 3ms/step - accuracy: 0.9615 - loss: 0.1247 - val_accuracy: 0.9605 - val_loss: 0.1204\n",
      "Epoch 50/100\n",
      "\u001b[1m86/86\u001b[0m \u001b[32m━━━━━━━━━━━━━━━━━━━━\u001b[0m\u001b[37m\u001b[0m \u001b[1m1s\u001b[0m 3ms/step - accuracy: 0.9563 - loss: 0.1357 - val_accuracy: 0.9605 - val_loss: 0.1189\n",
      "Epoch 51/100\n",
      "\u001b[1m86/86\u001b[0m \u001b[32m━━━━━━━━━━━━━━━━━━━━\u001b[0m\u001b[37m\u001b[0m \u001b[1m1s\u001b[0m 4ms/step - accuracy: 0.9556 - loss: 0.1332 - val_accuracy: 0.9619 - val_loss: 0.1192\n",
      "Epoch 52/100\n",
      "\u001b[1m86/86\u001b[0m \u001b[32m━━━━━━━━━━━━━━━━━━━━\u001b[0m\u001b[37m\u001b[0m \u001b[1m0s\u001b[0m 4ms/step - accuracy: 0.9472 - loss: 0.1451 - val_accuracy: 0.9619 - val_loss: 0.1184\n",
      "Epoch 53/100\n",
      "\u001b[1m86/86\u001b[0m \u001b[32m━━━━━━━━━━━━━━━━━━━━\u001b[0m\u001b[37m\u001b[0m \u001b[1m0s\u001b[0m 3ms/step - accuracy: 0.9549 - loss: 0.1304 - val_accuracy: 0.9605 - val_loss: 0.1173\n",
      "Epoch 54/100\n",
      "\u001b[1m86/86\u001b[0m \u001b[32m━━━━━━━━━━━━━━━━━━━━\u001b[0m\u001b[37m\u001b[0m \u001b[1m0s\u001b[0m 4ms/step - accuracy: 0.9544 - loss: 0.1319 - val_accuracy: 0.9634 - val_loss: 0.1176\n",
      "Epoch 55/100\n",
      "\u001b[1m86/86\u001b[0m \u001b[32m━━━━━━━━━━━━━━━━━━━━\u001b[0m\u001b[37m\u001b[0m \u001b[1m1s\u001b[0m 4ms/step - accuracy: 0.9582 - loss: 0.1241 - val_accuracy: 0.9634 - val_loss: 0.1175\n",
      "Epoch 56/100\n",
      "\u001b[1m86/86\u001b[0m \u001b[32m━━━━━━━━━━━━━━━━━━━━\u001b[0m\u001b[37m\u001b[0m \u001b[1m0s\u001b[0m 4ms/step - accuracy: 0.9500 - loss: 0.1364 - val_accuracy: 0.9619 - val_loss: 0.1164\n",
      "Epoch 57/100\n",
      "\u001b[1m86/86\u001b[0m \u001b[32m━━━━━━━━━━━━━━━━━━━━\u001b[0m\u001b[37m\u001b[0m \u001b[1m1s\u001b[0m 4ms/step - accuracy: 0.9551 - loss: 0.1327 - val_accuracy: 0.9605 - val_loss: 0.1178\n",
      "Epoch 58/100\n",
      "\u001b[1m86/86\u001b[0m \u001b[32m━━━━━━━━━━━━━━━━━━━━\u001b[0m\u001b[37m\u001b[0m \u001b[1m1s\u001b[0m 3ms/step - accuracy: 0.9535 - loss: 0.1319 - val_accuracy: 0.9634 - val_loss: 0.1155\n",
      "Epoch 59/100\n",
      "\u001b[1m86/86\u001b[0m \u001b[32m━━━━━━━━━━━━━━━━━━━━\u001b[0m\u001b[37m\u001b[0m \u001b[1m0s\u001b[0m 3ms/step - accuracy: 0.9615 - loss: 0.1181 - val_accuracy: 0.9634 - val_loss: 0.1156\n",
      "Epoch 60/100\n",
      "\u001b[1m86/86\u001b[0m \u001b[32m━━━━━━━━━━━━━━━━━━━━\u001b[0m\u001b[37m\u001b[0m \u001b[1m0s\u001b[0m 4ms/step - accuracy: 0.9546 - loss: 0.1525 - val_accuracy: 0.9619 - val_loss: 0.1148\n",
      "Epoch 61/100\n",
      "\u001b[1m86/86\u001b[0m \u001b[32m━━━━━━━━━━━━━━━━━━━━\u001b[0m\u001b[37m\u001b[0m \u001b[1m0s\u001b[0m 3ms/step - accuracy: 0.9540 - loss: 0.1356 - val_accuracy: 0.9619 - val_loss: 0.1147\n",
      "Epoch 62/100\n",
      "\u001b[1m86/86\u001b[0m \u001b[32m━━━━━━━━━━━━━━━━━━━━\u001b[0m\u001b[37m\u001b[0m \u001b[1m1s\u001b[0m 4ms/step - accuracy: 0.9577 - loss: 0.1340 - val_accuracy: 0.9634 - val_loss: 0.1152\n",
      "Epoch 63/100\n",
      "\u001b[1m86/86\u001b[0m \u001b[32m━━━━━━━━━━━━━━━━━━━━\u001b[0m\u001b[37m\u001b[0m \u001b[1m0s\u001b[0m 4ms/step - accuracy: 0.9588 - loss: 0.1401 - val_accuracy: 0.9634 - val_loss: 0.1141\n",
      "Epoch 64/100\n",
      "\u001b[1m86/86\u001b[0m \u001b[32m━━━━━━━━━━━━━━━━━━━━\u001b[0m\u001b[37m\u001b[0m \u001b[1m1s\u001b[0m 4ms/step - accuracy: 0.9538 - loss: 0.1515 - val_accuracy: 0.9634 - val_loss: 0.1146\n",
      "Epoch 65/100\n",
      "\u001b[1m86/86\u001b[0m \u001b[32m━━━━━━━━━━━━━━━━━━━━\u001b[0m\u001b[37m\u001b[0m \u001b[1m0s\u001b[0m 3ms/step - accuracy: 0.9561 - loss: 0.1363 - val_accuracy: 0.9634 - val_loss: 0.1132\n",
      "Epoch 66/100\n",
      "\u001b[1m86/86\u001b[0m \u001b[32m━━━━━━━━━━━━━━━━━━━━\u001b[0m\u001b[37m\u001b[0m \u001b[1m1s\u001b[0m 4ms/step - accuracy: 0.9609 - loss: 0.1267 - val_accuracy: 0.9634 - val_loss: 0.1130\n",
      "Epoch 67/100\n",
      "\u001b[1m86/86\u001b[0m \u001b[32m━━━━━━━━━━━━━━━━━━━━\u001b[0m\u001b[37m\u001b[0m \u001b[1m0s\u001b[0m 3ms/step - accuracy: 0.9547 - loss: 0.1375 - val_accuracy: 0.9619 - val_loss: 0.1135\n",
      "Epoch 68/100\n",
      "\u001b[1m86/86\u001b[0m \u001b[32m━━━━━━━━━━━━━━━━━━━━\u001b[0m\u001b[37m\u001b[0m \u001b[1m0s\u001b[0m 3ms/step - accuracy: 0.9586 - loss: 0.1060 - val_accuracy: 0.9634 - val_loss: 0.1119\n",
      "Epoch 69/100\n",
      "\u001b[1m86/86\u001b[0m \u001b[32m━━━━━━━━━━━━━━━━━━━━\u001b[0m\u001b[37m\u001b[0m \u001b[1m0s\u001b[0m 3ms/step - accuracy: 0.9593 - loss: 0.1240 - val_accuracy: 0.9619 - val_loss: 0.1129\n",
      "Epoch 70/100\n",
      "\u001b[1m86/86\u001b[0m \u001b[32m━━━━━━━━━━━━━━━━━━━━\u001b[0m\u001b[37m\u001b[0m \u001b[1m1s\u001b[0m 4ms/step - accuracy: 0.9610 - loss: 0.1223 - val_accuracy: 0.9619 - val_loss: 0.1123\n",
      "Epoch 71/100\n",
      "\u001b[1m86/86\u001b[0m \u001b[32m━━━━━━━━━━━━━━━━━━━━\u001b[0m\u001b[37m\u001b[0m \u001b[1m1s\u001b[0m 3ms/step - accuracy: 0.9610 - loss: 0.1262 - val_accuracy: 0.9634 - val_loss: 0.1126\n",
      "Epoch 72/100\n",
      "\u001b[1m86/86\u001b[0m \u001b[32m━━━━━━━━━━━━━━━━━━━━\u001b[0m\u001b[37m\u001b[0m \u001b[1m0s\u001b[0m 4ms/step - accuracy: 0.9595 - loss: 0.1359 - val_accuracy: 0.9634 - val_loss: 0.1122\n",
      "Epoch 73/100\n",
      "\u001b[1m86/86\u001b[0m \u001b[32m━━━━━━━━━━━━━━━━━━━━\u001b[0m\u001b[37m\u001b[0m \u001b[1m0s\u001b[0m 3ms/step - accuracy: 0.9600 - loss: 0.1241 - val_accuracy: 0.9619 - val_loss: 0.1114\n",
      "Epoch 74/100\n",
      "\u001b[1m86/86\u001b[0m \u001b[32m━━━━━━━━━━━━━━━━━━━━\u001b[0m\u001b[37m\u001b[0m \u001b[1m0s\u001b[0m 4ms/step - accuracy: 0.9500 - loss: 0.1480 - val_accuracy: 0.9649 - val_loss: 0.1122\n",
      "Epoch 75/100\n",
      "\u001b[1m86/86\u001b[0m \u001b[32m━━━━━━━━━━━━━━━━━━━━\u001b[0m\u001b[37m\u001b[0m \u001b[1m0s\u001b[0m 3ms/step - accuracy: 0.9602 - loss: 0.1177 - val_accuracy: 0.9634 - val_loss: 0.1116\n",
      "Epoch 76/100\n",
      "\u001b[1m86/86\u001b[0m \u001b[32m━━━━━━━━━━━━━━━━━━━━\u001b[0m\u001b[37m\u001b[0m \u001b[1m0s\u001b[0m 4ms/step - accuracy: 0.9651 - loss: 0.1202 - val_accuracy: 0.9619 - val_loss: 0.1109\n",
      "Epoch 77/100\n",
      "\u001b[1m86/86\u001b[0m \u001b[32m━━━━━━━━━━━━━━━━━━━━\u001b[0m\u001b[37m\u001b[0m \u001b[1m0s\u001b[0m 4ms/step - accuracy: 0.9640 - loss: 0.1069 - val_accuracy: 0.9634 - val_loss: 0.1111\n",
      "Epoch 78/100\n",
      "\u001b[1m86/86\u001b[0m \u001b[32m━━━━━━━━━━━━━━━━━━━━\u001b[0m\u001b[37m\u001b[0m \u001b[1m0s\u001b[0m 3ms/step - accuracy: 0.9543 - loss: 0.1332 - val_accuracy: 0.9605 - val_loss: 0.1111\n",
      "Epoch 79/100\n",
      "\u001b[1m86/86\u001b[0m \u001b[32m━━━━━━━━━━━━━━━━━━━━\u001b[0m\u001b[37m\u001b[0m \u001b[1m0s\u001b[0m 3ms/step - accuracy: 0.9603 - loss: 0.1272 - val_accuracy: 0.9634 - val_loss: 0.1105\n",
      "Epoch 80/100\n",
      "\u001b[1m86/86\u001b[0m \u001b[32m━━━━━━━━━━━━━━━━━━━━\u001b[0m\u001b[37m\u001b[0m \u001b[1m0s\u001b[0m 3ms/step - accuracy: 0.9585 - loss: 0.1397 - val_accuracy: 0.9619 - val_loss: 0.1100\n",
      "Epoch 81/100\n",
      "\u001b[1m86/86\u001b[0m \u001b[32m━━━━━━━━━━━━━━━━━━━━\u001b[0m\u001b[37m\u001b[0m \u001b[1m0s\u001b[0m 4ms/step - accuracy: 0.9584 - loss: 0.1112 - val_accuracy: 0.9619 - val_loss: 0.1101\n",
      "Epoch 82/100\n",
      "\u001b[1m86/86\u001b[0m \u001b[32m━━━━━━━━━━━━━━━━━━━━\u001b[0m\u001b[37m\u001b[0m \u001b[1m1s\u001b[0m 4ms/step - accuracy: 0.9569 - loss: 0.1240 - val_accuracy: 0.9619 - val_loss: 0.1107\n",
      "Epoch 83/100\n",
      "\u001b[1m86/86\u001b[0m \u001b[32m━━━━━━━━━━━━━━━━━━━━\u001b[0m\u001b[37m\u001b[0m \u001b[1m0s\u001b[0m 4ms/step - accuracy: 0.9615 - loss: 0.1129 - val_accuracy: 0.9590 - val_loss: 0.1093\n",
      "Epoch 84/100\n",
      "\u001b[1m86/86\u001b[0m \u001b[32m━━━━━━━━━━━━━━━━━━━━\u001b[0m\u001b[37m\u001b[0m \u001b[1m0s\u001b[0m 4ms/step - accuracy: 0.9610 - loss: 0.1283 - val_accuracy: 0.9605 - val_loss: 0.1095\n",
      "Epoch 85/100\n",
      "\u001b[1m86/86\u001b[0m \u001b[32m━━━━━━━━━━━━━━━━━━━━\u001b[0m\u001b[37m\u001b[0m \u001b[1m1s\u001b[0m 4ms/step - accuracy: 0.9649 - loss: 0.1180 - val_accuracy: 0.9590 - val_loss: 0.1098\n",
      "Epoch 86/100\n",
      "\u001b[1m86/86\u001b[0m \u001b[32m━━━━━━━━━━━━━━━━━━━━\u001b[0m\u001b[37m\u001b[0m \u001b[1m1s\u001b[0m 4ms/step - accuracy: 0.9628 - loss: 0.1100 - val_accuracy: 0.9605 - val_loss: 0.1095\n",
      "Epoch 87/100\n",
      "\u001b[1m86/86\u001b[0m \u001b[32m━━━━━━━━━━━━━━━━━━━━\u001b[0m\u001b[37m\u001b[0m \u001b[1m1s\u001b[0m 4ms/step - accuracy: 0.9661 - loss: 0.1113 - val_accuracy: 0.9634 - val_loss: 0.1098\n",
      "Epoch 88/100\n",
      "\u001b[1m86/86\u001b[0m \u001b[32m━━━━━━━━━━━━━━━━━━━━\u001b[0m\u001b[37m\u001b[0m \u001b[1m1s\u001b[0m 4ms/step - accuracy: 0.9645 - loss: 0.1161 - val_accuracy: 0.9575 - val_loss: 0.1083\n",
      "Epoch 89/100\n",
      "\u001b[1m86/86\u001b[0m \u001b[32m━━━━━━━━━━━━━━━━━━━━\u001b[0m\u001b[37m\u001b[0m \u001b[1m1s\u001b[0m 4ms/step - accuracy: 0.9590 - loss: 0.1211 - val_accuracy: 0.9619 - val_loss: 0.1080\n",
      "Epoch 90/100\n",
      "\u001b[1m86/86\u001b[0m \u001b[32m━━━━━━━━━━━━━━━━━━━━\u001b[0m\u001b[37m\u001b[0m \u001b[1m1s\u001b[0m 4ms/step - accuracy: 0.9584 - loss: 0.1282 - val_accuracy: 0.9605 - val_loss: 0.1091\n",
      "Epoch 91/100\n",
      "\u001b[1m86/86\u001b[0m \u001b[32m━━━━━━━━━━━━━━━━━━━━\u001b[0m\u001b[37m\u001b[0m \u001b[1m0s\u001b[0m 4ms/step - accuracy: 0.9595 - loss: 0.1236 - val_accuracy: 0.9619 - val_loss: 0.1084\n",
      "Epoch 92/100\n",
      "\u001b[1m86/86\u001b[0m \u001b[32m━━━━━━━━━━━━━━━━━━━━\u001b[0m\u001b[37m\u001b[0m \u001b[1m1s\u001b[0m 4ms/step - accuracy: 0.9535 - loss: 0.1301 - val_accuracy: 0.9590 - val_loss: 0.1086\n",
      "Epoch 93/100\n",
      "\u001b[1m86/86\u001b[0m \u001b[32m━━━━━━━━━━━━━━━━━━━━\u001b[0m\u001b[37m\u001b[0m \u001b[1m1s\u001b[0m 4ms/step - accuracy: 0.9586 - loss: 0.1373 - val_accuracy: 0.9619 - val_loss: 0.1085\n",
      "Epoch 94/100\n",
      "\u001b[1m86/86\u001b[0m \u001b[32m━━━━━━━━━━━━━━━━━━━━\u001b[0m\u001b[37m\u001b[0m \u001b[1m0s\u001b[0m 3ms/step - accuracy: 0.9627 - loss: 0.1124 - val_accuracy: 0.9619 - val_loss: 0.1077\n",
      "Epoch 95/100\n",
      "\u001b[1m86/86\u001b[0m \u001b[32m━━━━━━━━━━━━━━━━━━━━\u001b[0m\u001b[37m\u001b[0m \u001b[1m0s\u001b[0m 3ms/step - accuracy: 0.9613 - loss: 0.1169 - val_accuracy: 0.9619 - val_loss: 0.1083\n",
      "Epoch 96/100\n",
      "\u001b[1m86/86\u001b[0m \u001b[32m━━━━━━━━━━━━━━━━━━━━\u001b[0m\u001b[37m\u001b[0m \u001b[1m0s\u001b[0m 3ms/step - accuracy: 0.9641 - loss: 0.1249 - val_accuracy: 0.9590 - val_loss: 0.1070\n",
      "Epoch 97/100\n",
      "\u001b[1m86/86\u001b[0m \u001b[32m━━━━━━━━━━━━━━━━━━━━\u001b[0m\u001b[37m\u001b[0m \u001b[1m0s\u001b[0m 3ms/step - accuracy: 0.9609 - loss: 0.1270 - val_accuracy: 0.9590 - val_loss: 0.1080\n",
      "Epoch 98/100\n",
      "\u001b[1m86/86\u001b[0m \u001b[32m━━━━━━━━━━━━━━━━━━━━\u001b[0m\u001b[37m\u001b[0m \u001b[1m0s\u001b[0m 3ms/step - accuracy: 0.9699 - loss: 0.1018 - val_accuracy: 0.9619 - val_loss: 0.1080\n",
      "Epoch 99/100\n",
      "\u001b[1m86/86\u001b[0m \u001b[32m━━━━━━━━━━━━━━━━━━━━\u001b[0m\u001b[37m\u001b[0m \u001b[1m0s\u001b[0m 4ms/step - accuracy: 0.9622 - loss: 0.1159 - val_accuracy: 0.9619 - val_loss: 0.1088\n",
      "Epoch 100/100\n",
      "\u001b[1m86/86\u001b[0m \u001b[32m━━━━━━━━━━━━━━━━━━━━\u001b[0m\u001b[37m\u001b[0m \u001b[1m1s\u001b[0m 3ms/step - accuracy: 0.9696 - loss: 0.0930 - val_accuracy: 0.9590 - val_loss: 0.1071\n"
     ]
    }
   ],
   "source": [
    "# history = model.fit(X_train, y_train, epochs=100, validation_split=0.2)\n",
    "# history = model.fit(X_train, y_train, batch_size=X_train.shape[0], epochs=100, validation_split=0.2)\n",
    "history = model.fit(X_train, y_train, batch_size=32, epochs=100, validation_split=0.2)"
   ]
  },
  {
   "cell_type": "code",
   "execution_count": 188,
   "id": "8525444a-f8a6-4260-a57b-479f15478d33",
   "metadata": {},
   "outputs": [
    {
     "data": {
      "image/png": "[encoded data removed]",
      "text/plain": [
       "<Figure size 640x480 with 1 Axes>"
      ]
     },
     "metadata": {},
     "output_type": "display_data"
    }
   ],
   "source": [
    "# print(history.history)\n",
    "acc = history.history['accuracy']\n",
    "val_acc = history.history['val_accuracy']\n",
    "epochs = range(1, len(acc) + 1)\n",
    "\n",
    "plt.plot(epochs, acc, label='accuracy')\n",
    "plt.plot(epochs, val_acc, label='val_Accuracy')\n",
    "plt.title('Accuracy vs Validattion Accuracy')\n",
    "plt.legend()\n",
    "plt.show()"
   ]
  },
  {
   "cell_type": "code",
   "execution_count": 180,
   "id": "fcc7855d-2dc0-45c0-9110-c924d947904d",
   "metadata": {},
   "outputs": [
    {
     "name": "stdout",
     "output_type": "stream",
     "text": [
      "27/27 - 0s - 3ms/step - accuracy: 0.9028 - loss: 0.2692\n"
     ]
    },
    {
     "data": {
      "text/plain": [
       "[0.26923614740371704, 0.902810275554657]"
      ]
     },
     "execution_count": 180,
     "metadata": {},
     "output_type": "execute_result"
    }
   ],
   "source": [
    "model.evaluate(X_test, y_test, verbose=2)"
   ]
  },
  {
   "cell_type": "code",
   "execution_count": 181,
   "id": "102416b1-8b25-4a1c-93ba-d6998fa3de4b",
   "metadata": {},
   "outputs": [],
   "source": [
    "old_model = tf.keras.models.load_model('models/ann_loan.keras')"
   ]
  },
  {
   "cell_type": "code",
   "execution_count": 182,
   "id": "e2f50976-d448-4b29-b6a3-e67573b1cfca",
   "metadata": {},
   "outputs": [
    {
     "name": "stdout",
     "output_type": "stream",
     "text": [
      "27/27 - 0s - 18ms/step - accuracy: 0.9859 - loss: 0.0496\n"
     ]
    },
    {
     "data": {
      "text/plain": [
       "[0.04961070045828819, 0.9859485030174255]"
      ]
     },
     "execution_count": 182,
     "metadata": {},
     "output_type": "execute_result"
    }
   ],
   "source": [
    "old_model.evaluate(X_test, y_test, verbose=2)"
   ]
  },
  {
   "cell_type": "code",
   "execution_count": null,
   "id": "acaac1ff-5a1a-40bf-8edc-fae19f80110d",
   "metadata": {},
   "outputs": [],
   "source": []
  }
 ],
 "metadata": {
  "kernelspec": {
   "display_name": "Python 3 (ipykernel)",
   "language": "python",
   "name": "python3"
  },
  "language_info": {
   "codemirror_mode": {
    "name": "ipython",
    "version": 3
   },
   "file_extension": ".py",
   "mimetype": "text/x-python",
   "name": "python",
   "nbconvert_exporter": "python",
   "pygments_lexer": "ipython3",
   "version": "3.11.4"
  }
 },
 "nbformat": 4,
 "nbformat_minor": 5
}
