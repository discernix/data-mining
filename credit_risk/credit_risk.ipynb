{
 "cells": [
  {
   "cell_type": "markdown",
   "id": "bf219d1b-3fcd-4c72-9286-4363cebb7227",
   "metadata": {},
   "source": [
    "# Enchanncing Artificial Neural Network by modifying Gradient Descent with Adaptive Moment Estimation (Adam) on Credit Risk Classification using "
   ]
  },
  {
   "cell_type": "markdown",
   "id": "73d42d7c-7795-49a7-897d-6fe1253fa3bb",
   "metadata": {},
   "source": [
    "Import all libraries needed"
   ]
  },
  {
   "cell_type": "code",
   "execution_count": 40,
   "id": "fcdb30ac-80a2-4a68-a57a-548baf8dce5b",
   "metadata": {},
   "outputs": [],
   "source": [
    "import pandas as pd\n",
    "import numpy as np\n",
    "import matplotlib.pyplot as plt\n",
    "import sklearn\n",
    "import tensorflow as tf\n",
    "import tensorflow.keras as keras\n",
    "import seaborn as sns\n",
    "import optuna\n",
    "\n",
    "from tensorflow.keras.layers import Input, Dense, Dropout\n",
    "from tensorflow.keras.utils import to_categorical\n",
    "from sklearn.preprocessing import MinMaxScaler, StandardScaler, LabelEncoder\n",
    "from sklearn.model_selection import train_test_split\n",
    "from sklearn.metrics import *"
   ]
  },
  {
   "cell_type": "code",
   "execution_count": 41,
   "id": "2201befd-3037-435d-b17c-333881aa57e0",
   "metadata": {},
   "outputs": [
    {
     "data": {
      "text/plain": [
       "(32581, 12)"
      ]
     },
     "execution_count": 41,
     "metadata": {},
     "output_type": "execute_result"
    }
   ],
   "source": [
    "df = pd.read_csv('../datasets/credit_risk.csv')\n",
    "df.shape"
   ]
  },
  {
   "cell_type": "markdown",
   "id": "d7d846df-a4f1-4ce1-b82c-3806c319d246",
   "metadata": {},
   "source": [
    "Membaca dataset. it can be found, the dataset has 32581 rows (include column names) and 12 variables. lets take a look into first 5 row and last 5 rows"
   ]
  },
  {
   "cell_type": "code",
   "execution_count": 42,
   "id": "751e048a-d882-4f1f-b775-7c2f2f889d78",
   "metadata": {},
   "outputs": [
    {
     "data": {
      "text/html": [
       "<div>\n",
       "<style scoped>\n",
       "    .dataframe tbody tr th:only-of-type {\n",
       "        vertical-align: middle;\n",
       "    }\n",
       "\n",
       "    .dataframe tbody tr th {\n",
       "        vertical-align: top;\n",
       "    }\n",
       "\n",
       "    .dataframe thead th {\n",
       "        text-align: right;\n",
       "    }\n",
       "</style>\n",
       "<table border=\"1\" class=\"dataframe\">\n",
       "  <thead>\n",
       "    <tr style=\"text-align: right;\">\n",
       "      <th></th>\n",
       "      <th>person_age</th>\n",
       "      <th>person_income</th>\n",
       "      <th>person_home_ownership</th>\n",
       "      <th>person_emp_length</th>\n",
       "      <th>loan_intent</th>\n",
       "      <th>loan_grade</th>\n",
       "      <th>loan_amnt</th>\n",
       "      <th>loan_int_rate</th>\n",
       "      <th>loan_status</th>\n",
       "      <th>loan_percent_income</th>\n",
       "      <th>cb_person_default_on_file</th>\n",
       "      <th>cb_person_cred_hist_length</th>\n",
       "    </tr>\n",
       "  </thead>\n",
       "  <tbody>\n",
       "    <tr>\n",
       "      <th>0</th>\n",
       "      <td>22</td>\n",
       "      <td>59000</td>\n",
       "      <td>RENT</td>\n",
       "      <td>123.0</td>\n",
       "      <td>PERSONAL</td>\n",
       "      <td>D</td>\n",
       "      <td>35000</td>\n",
       "      <td>16.02</td>\n",
       "      <td>1</td>\n",
       "      <td>0.59</td>\n",
       "      <td>Y</td>\n",
       "      <td>3</td>\n",
       "    </tr>\n",
       "    <tr>\n",
       "      <th>1</th>\n",
       "      <td>21</td>\n",
       "      <td>9600</td>\n",
       "      <td>OWN</td>\n",
       "      <td>5.0</td>\n",
       "      <td>EDUCATION</td>\n",
       "      <td>B</td>\n",
       "      <td>1000</td>\n",
       "      <td>11.14</td>\n",
       "      <td>0</td>\n",
       "      <td>0.10</td>\n",
       "      <td>N</td>\n",
       "      <td>2</td>\n",
       "    </tr>\n",
       "    <tr>\n",
       "      <th>2</th>\n",
       "      <td>25</td>\n",
       "      <td>9600</td>\n",
       "      <td>MORTGAGE</td>\n",
       "      <td>1.0</td>\n",
       "      <td>MEDICAL</td>\n",
       "      <td>C</td>\n",
       "      <td>5500</td>\n",
       "      <td>12.87</td>\n",
       "      <td>1</td>\n",
       "      <td>0.57</td>\n",
       "      <td>N</td>\n",
       "      <td>3</td>\n",
       "    </tr>\n",
       "    <tr>\n",
       "      <th>3</th>\n",
       "      <td>23</td>\n",
       "      <td>65500</td>\n",
       "      <td>RENT</td>\n",
       "      <td>4.0</td>\n",
       "      <td>MEDICAL</td>\n",
       "      <td>C</td>\n",
       "      <td>35000</td>\n",
       "      <td>15.23</td>\n",
       "      <td>1</td>\n",
       "      <td>0.53</td>\n",
       "      <td>N</td>\n",
       "      <td>2</td>\n",
       "    </tr>\n",
       "    <tr>\n",
       "      <th>4</th>\n",
       "      <td>24</td>\n",
       "      <td>54400</td>\n",
       "      <td>RENT</td>\n",
       "      <td>8.0</td>\n",
       "      <td>MEDICAL</td>\n",
       "      <td>C</td>\n",
       "      <td>35000</td>\n",
       "      <td>14.27</td>\n",
       "      <td>1</td>\n",
       "      <td>0.55</td>\n",
       "      <td>Y</td>\n",
       "      <td>4</td>\n",
       "    </tr>\n",
       "  </tbody>\n",
       "</table>\n",
       "</div>"
      ],
      "text/plain": [
       "   person_age  person_income person_home_ownership  person_emp_length  \\\n",
       "0          22          59000                  RENT              123.0   \n",
       "1          21           9600                   OWN                5.0   \n",
       "2          25           9600              MORTGAGE                1.0   \n",
       "3          23          65500                  RENT                4.0   \n",
       "4          24          54400                  RENT                8.0   \n",
       "\n",
       "  loan_intent loan_grade  loan_amnt  loan_int_rate  loan_status  \\\n",
       "0    PERSONAL          D      35000          16.02            1   \n",
       "1   EDUCATION          B       1000          11.14            0   \n",
       "2     MEDICAL          C       5500          12.87            1   \n",
       "3     MEDICAL          C      35000          15.23            1   \n",
       "4     MEDICAL          C      35000          14.27            1   \n",
       "\n",
       "   loan_percent_income cb_person_default_on_file  cb_person_cred_hist_length  \n",
       "0                 0.59                         Y                           3  \n",
       "1                 0.10                         N                           2  \n",
       "2                 0.57                         N                           3  \n",
       "3                 0.53                         N                           2  \n",
       "4                 0.55                         Y                           4  "
      ]
     },
     "execution_count": 42,
     "metadata": {},
     "output_type": "execute_result"
    }
   ],
   "source": [
    "df.head()"
   ]
  },
  {
   "cell_type": "code",
   "execution_count": 43,
   "id": "8d359d6b-71e6-47fa-921b-f582637c5df2",
   "metadata": {},
   "outputs": [
    {
     "data": {
      "text/html": [
       "<div>\n",
       "<style scoped>\n",
       "    .dataframe tbody tr th:only-of-type {\n",
       "        vertical-align: middle;\n",
       "    }\n",
       "\n",
       "    .dataframe tbody tr th {\n",
       "        vertical-align: top;\n",
       "    }\n",
       "\n",
       "    .dataframe thead th {\n",
       "        text-align: right;\n",
       "    }\n",
       "</style>\n",
       "<table border=\"1\" class=\"dataframe\">\n",
       "  <thead>\n",
       "    <tr style=\"text-align: right;\">\n",
       "      <th></th>\n",
       "      <th>person_age</th>\n",
       "      <th>person_income</th>\n",
       "      <th>person_home_ownership</th>\n",
       "      <th>person_emp_length</th>\n",
       "      <th>loan_intent</th>\n",
       "      <th>loan_grade</th>\n",
       "      <th>loan_amnt</th>\n",
       "      <th>loan_int_rate</th>\n",
       "      <th>loan_status</th>\n",
       "      <th>loan_percent_income</th>\n",
       "      <th>cb_person_default_on_file</th>\n",
       "      <th>cb_person_cred_hist_length</th>\n",
       "    </tr>\n",
       "  </thead>\n",
       "  <tbody>\n",
       "    <tr>\n",
       "      <th>32576</th>\n",
       "      <td>57</td>\n",
       "      <td>53000</td>\n",
       "      <td>MORTGAGE</td>\n",
       "      <td>1.0</td>\n",
       "      <td>PERSONAL</td>\n",
       "      <td>C</td>\n",
       "      <td>5800</td>\n",
       "      <td>13.16</td>\n",
       "      <td>0</td>\n",
       "      <td>0.11</td>\n",
       "      <td>N</td>\n",
       "      <td>30</td>\n",
       "    </tr>\n",
       "    <tr>\n",
       "      <th>32577</th>\n",
       "      <td>54</td>\n",
       "      <td>120000</td>\n",
       "      <td>MORTGAGE</td>\n",
       "      <td>4.0</td>\n",
       "      <td>PERSONAL</td>\n",
       "      <td>A</td>\n",
       "      <td>17625</td>\n",
       "      <td>7.49</td>\n",
       "      <td>0</td>\n",
       "      <td>0.15</td>\n",
       "      <td>N</td>\n",
       "      <td>19</td>\n",
       "    </tr>\n",
       "    <tr>\n",
       "      <th>32578</th>\n",
       "      <td>65</td>\n",
       "      <td>76000</td>\n",
       "      <td>RENT</td>\n",
       "      <td>3.0</td>\n",
       "      <td>HOMEIMPROVEMENT</td>\n",
       "      <td>B</td>\n",
       "      <td>35000</td>\n",
       "      <td>10.99</td>\n",
       "      <td>1</td>\n",
       "      <td>0.46</td>\n",
       "      <td>N</td>\n",
       "      <td>28</td>\n",
       "    </tr>\n",
       "    <tr>\n",
       "      <th>32579</th>\n",
       "      <td>56</td>\n",
       "      <td>150000</td>\n",
       "      <td>MORTGAGE</td>\n",
       "      <td>5.0</td>\n",
       "      <td>PERSONAL</td>\n",
       "      <td>B</td>\n",
       "      <td>15000</td>\n",
       "      <td>11.48</td>\n",
       "      <td>0</td>\n",
       "      <td>0.10</td>\n",
       "      <td>N</td>\n",
       "      <td>26</td>\n",
       "    </tr>\n",
       "    <tr>\n",
       "      <th>32580</th>\n",
       "      <td>66</td>\n",
       "      <td>42000</td>\n",
       "      <td>RENT</td>\n",
       "      <td>2.0</td>\n",
       "      <td>MEDICAL</td>\n",
       "      <td>B</td>\n",
       "      <td>6475</td>\n",
       "      <td>9.99</td>\n",
       "      <td>0</td>\n",
       "      <td>0.15</td>\n",
       "      <td>N</td>\n",
       "      <td>30</td>\n",
       "    </tr>\n",
       "  </tbody>\n",
       "</table>\n",
       "</div>"
      ],
      "text/plain": [
       "       person_age  person_income person_home_ownership  person_emp_length  \\\n",
       "32576          57          53000              MORTGAGE                1.0   \n",
       "32577          54         120000              MORTGAGE                4.0   \n",
       "32578          65          76000                  RENT                3.0   \n",
       "32579          56         150000              MORTGAGE                5.0   \n",
       "32580          66          42000                  RENT                2.0   \n",
       "\n",
       "           loan_intent loan_grade  loan_amnt  loan_int_rate  loan_status  \\\n",
       "32576         PERSONAL          C       5800          13.16            0   \n",
       "32577         PERSONAL          A      17625           7.49            0   \n",
       "32578  HOMEIMPROVEMENT          B      35000          10.99            1   \n",
       "32579         PERSONAL          B      15000          11.48            0   \n",
       "32580          MEDICAL          B       6475           9.99            0   \n",
       "\n",
       "       loan_percent_income cb_person_default_on_file  \\\n",
       "32576                 0.11                         N   \n",
       "32577                 0.15                         N   \n",
       "32578                 0.46                         N   \n",
       "32579                 0.10                         N   \n",
       "32580                 0.15                         N   \n",
       "\n",
       "       cb_person_cred_hist_length  \n",
       "32576                          30  \n",
       "32577                          19  \n",
       "32578                          28  \n",
       "32579                          26  \n",
       "32580                          30  "
      ]
     },
     "execution_count": 43,
     "metadata": {},
     "output_type": "execute_result"
    }
   ],
   "source": [
    "df.tail()"
   ]
  },
  {
   "cell_type": "markdown",
   "id": "50b6997a-ae66-4bee-899e-9f4de74fead0",
   "metadata": {},
   "source": [
    "## Data Understanding"
   ]
  },
  {
   "cell_type": "code",
   "execution_count": 44,
   "id": "e5affa2f-398a-4c4b-a7e3-6aef28263907",
   "metadata": {},
   "outputs": [
    {
     "data": {
      "text/plain": [
       "Index(['person_age', 'person_income', 'person_home_ownership',\n",
       "       'person_emp_length', 'loan_intent', 'loan_grade', 'loan_amnt',\n",
       "       'loan_int_rate', 'loan_status', 'loan_percent_income',\n",
       "       'cb_person_default_on_file', 'cb_person_cred_hist_length'],\n",
       "      dtype='object')"
      ]
     },
     "execution_count": 44,
     "metadata": {},
     "output_type": "execute_result"
    }
   ],
   "source": [
    "df.columns"
   ]
  },
  {
   "cell_type": "code",
   "execution_count": 45,
   "id": "d74f2bb4-04b5-4df1-9ad7-fc381c2f6e1d",
   "metadata": {},
   "outputs": [
    {
     "name": "stdout",
     "output_type": "stream",
     "text": [
      "<class 'pandas.core.frame.DataFrame'>\n",
      "RangeIndex: 32581 entries, 0 to 32580\n",
      "Data columns (total 12 columns):\n",
      " #   Column                      Non-Null Count  Dtype  \n",
      "---  ------                      --------------  -----  \n",
      " 0   person_age                  32581 non-null  int64  \n",
      " 1   person_income               32581 non-null  int64  \n",
      " 2   person_home_ownership       32581 non-null  object \n",
      " 3   person_emp_length           31686 non-null  float64\n",
      " 4   loan_intent                 32581 non-null  object \n",
      " 5   loan_grade                  32581 non-null  object \n",
      " 6   loan_amnt                   32581 non-null  int64  \n",
      " 7   loan_int_rate               29465 non-null  float64\n",
      " 8   loan_status                 32581 non-null  int64  \n",
      " 9   loan_percent_income         32581 non-null  float64\n",
      " 10  cb_person_default_on_file   32581 non-null  object \n",
      " 11  cb_person_cred_hist_length  32581 non-null  int64  \n",
      "dtypes: float64(3), int64(5), object(4)\n",
      "memory usage: 3.0+ MB\n"
     ]
    }
   ],
   "source": [
    "df.info()"
   ]
  },
  {
   "cell_type": "code",
   "execution_count": 46,
   "id": "a4672b37-c735-4959-bb26-ec40a37192be",
   "metadata": {},
   "outputs": [
    {
     "data": {
      "text/html": [
       "<div>\n",
       "<style scoped>\n",
       "    .dataframe tbody tr th:only-of-type {\n",
       "        vertical-align: middle;\n",
       "    }\n",
       "\n",
       "    .dataframe tbody tr th {\n",
       "        vertical-align: top;\n",
       "    }\n",
       "\n",
       "    .dataframe thead th {\n",
       "        text-align: right;\n",
       "    }\n",
       "</style>\n",
       "<table border=\"1\" class=\"dataframe\">\n",
       "  <thead>\n",
       "    <tr style=\"text-align: right;\">\n",
       "      <th></th>\n",
       "      <th>person_age</th>\n",
       "      <th>person_income</th>\n",
       "      <th>person_emp_length</th>\n",
       "      <th>loan_amnt</th>\n",
       "      <th>loan_int_rate</th>\n",
       "      <th>loan_status</th>\n",
       "      <th>loan_percent_income</th>\n",
       "      <th>cb_person_cred_hist_length</th>\n",
       "    </tr>\n",
       "  </thead>\n",
       "  <tbody>\n",
       "    <tr>\n",
       "      <th>count</th>\n",
       "      <td>32581.000000</td>\n",
       "      <td>3.258100e+04</td>\n",
       "      <td>31686.000000</td>\n",
       "      <td>32581.000000</td>\n",
       "      <td>29465.000000</td>\n",
       "      <td>32581.000000</td>\n",
       "      <td>32581.000000</td>\n",
       "      <td>32581.000000</td>\n",
       "    </tr>\n",
       "    <tr>\n",
       "      <th>mean</th>\n",
       "      <td>27.734600</td>\n",
       "      <td>6.607485e+04</td>\n",
       "      <td>4.789686</td>\n",
       "      <td>9589.371106</td>\n",
       "      <td>11.011695</td>\n",
       "      <td>0.218164</td>\n",
       "      <td>0.170203</td>\n",
       "      <td>5.804211</td>\n",
       "    </tr>\n",
       "    <tr>\n",
       "      <th>std</th>\n",
       "      <td>6.348078</td>\n",
       "      <td>6.198312e+04</td>\n",
       "      <td>4.142630</td>\n",
       "      <td>6322.086646</td>\n",
       "      <td>3.240459</td>\n",
       "      <td>0.413006</td>\n",
       "      <td>0.106782</td>\n",
       "      <td>4.055001</td>\n",
       "    </tr>\n",
       "    <tr>\n",
       "      <th>min</th>\n",
       "      <td>20.000000</td>\n",
       "      <td>4.000000e+03</td>\n",
       "      <td>0.000000</td>\n",
       "      <td>500.000000</td>\n",
       "      <td>5.420000</td>\n",
       "      <td>0.000000</td>\n",
       "      <td>0.000000</td>\n",
       "      <td>2.000000</td>\n",
       "    </tr>\n",
       "    <tr>\n",
       "      <th>25%</th>\n",
       "      <td>23.000000</td>\n",
       "      <td>3.850000e+04</td>\n",
       "      <td>2.000000</td>\n",
       "      <td>5000.000000</td>\n",
       "      <td>7.900000</td>\n",
       "      <td>0.000000</td>\n",
       "      <td>0.090000</td>\n",
       "      <td>3.000000</td>\n",
       "    </tr>\n",
       "    <tr>\n",
       "      <th>50%</th>\n",
       "      <td>26.000000</td>\n",
       "      <td>5.500000e+04</td>\n",
       "      <td>4.000000</td>\n",
       "      <td>8000.000000</td>\n",
       "      <td>10.990000</td>\n",
       "      <td>0.000000</td>\n",
       "      <td>0.150000</td>\n",
       "      <td>4.000000</td>\n",
       "    </tr>\n",
       "    <tr>\n",
       "      <th>75%</th>\n",
       "      <td>30.000000</td>\n",
       "      <td>7.920000e+04</td>\n",
       "      <td>7.000000</td>\n",
       "      <td>12200.000000</td>\n",
       "      <td>13.470000</td>\n",
       "      <td>0.000000</td>\n",
       "      <td>0.230000</td>\n",
       "      <td>8.000000</td>\n",
       "    </tr>\n",
       "    <tr>\n",
       "      <th>max</th>\n",
       "      <td>144.000000</td>\n",
       "      <td>6.000000e+06</td>\n",
       "      <td>123.000000</td>\n",
       "      <td>35000.000000</td>\n",
       "      <td>23.220000</td>\n",
       "      <td>1.000000</td>\n",
       "      <td>0.830000</td>\n",
       "      <td>30.000000</td>\n",
       "    </tr>\n",
       "  </tbody>\n",
       "</table>\n",
       "</div>"
      ],
      "text/plain": [
       "         person_age  person_income  person_emp_length     loan_amnt  \\\n",
       "count  32581.000000   3.258100e+04       31686.000000  32581.000000   \n",
       "mean      27.734600   6.607485e+04           4.789686   9589.371106   \n",
       "std        6.348078   6.198312e+04           4.142630   6322.086646   \n",
       "min       20.000000   4.000000e+03           0.000000    500.000000   \n",
       "25%       23.000000   3.850000e+04           2.000000   5000.000000   \n",
       "50%       26.000000   5.500000e+04           4.000000   8000.000000   \n",
       "75%       30.000000   7.920000e+04           7.000000  12200.000000   \n",
       "max      144.000000   6.000000e+06         123.000000  35000.000000   \n",
       "\n",
       "       loan_int_rate   loan_status  loan_percent_income  \\\n",
       "count   29465.000000  32581.000000         32581.000000   \n",
       "mean       11.011695      0.218164             0.170203   \n",
       "std         3.240459      0.413006             0.106782   \n",
       "min         5.420000      0.000000             0.000000   \n",
       "25%         7.900000      0.000000             0.090000   \n",
       "50%        10.990000      0.000000             0.150000   \n",
       "75%        13.470000      0.000000             0.230000   \n",
       "max        23.220000      1.000000             0.830000   \n",
       "\n",
       "       cb_person_cred_hist_length  \n",
       "count                32581.000000  \n",
       "mean                     5.804211  \n",
       "std                      4.055001  \n",
       "min                      2.000000  \n",
       "25%                      3.000000  \n",
       "50%                      4.000000  \n",
       "75%                      8.000000  \n",
       "max                     30.000000  "
      ]
     },
     "execution_count": 46,
     "metadata": {},
     "output_type": "execute_result"
    }
   ],
   "source": [
    "df.describe()"
   ]
  },
  {
   "cell_type": "code",
   "execution_count": 47,
   "id": "22051bcd-d6b7-4e1a-92c4-8b6b17e4237e",
   "metadata": {},
   "outputs": [],
   "source": [
    "df.drop_duplicates(inplace=True)"
   ]
  },
  {
   "cell_type": "code",
   "execution_count": 48,
   "id": "c2dc84b3-48e0-4e35-9f81-df90989e9269",
   "metadata": {},
   "outputs": [],
   "source": [
    "df.duplicated().sum()\n",
    "df.dropna(inplace=True)"
   ]
  },
  {
   "cell_type": "markdown",
   "id": "7ee59a1b-d5d1-4a11-b653-4138e991a1d5",
   "metadata": {},
   "source": [
    "Check is there any null value and how much is it"
   ]
  },
  {
   "cell_type": "code",
   "execution_count": 49,
   "id": "bd907c23-79cd-40a6-b4fd-dae4581683d0",
   "metadata": {},
   "outputs": [
    {
     "data": {
      "text/plain": [
       "person_age                    0.0\n",
       "person_income                 0.0\n",
       "person_home_ownership         0.0\n",
       "person_emp_length             0.0\n",
       "loan_intent                   0.0\n",
       "loan_grade                    0.0\n",
       "loan_amnt                     0.0\n",
       "loan_int_rate                 0.0\n",
       "loan_status                   0.0\n",
       "loan_percent_income           0.0\n",
       "cb_person_default_on_file     0.0\n",
       "cb_person_cred_hist_length    0.0\n",
       "dtype: float64"
      ]
     },
     "execution_count": 49,
     "metadata": {},
     "output_type": "execute_result"
    }
   ],
   "source": [
    "df.isnull().sum() * 100 / len(df)"
   ]
  },
  {
   "cell_type": "markdown",
   "id": "6c4a6ced-87e3-4c5b-9c83-0cc644d5ec17",
   "metadata": {},
   "source": [
    "Handle Null Values"
   ]
  },
  {
   "cell_type": "code",
   "execution_count": 50,
   "id": "6fea8dea-ee40-4118-817c-a7b54b93cb07",
   "metadata": {},
   "outputs": [],
   "source": [
    "df['person_emp_length'] = df['person_emp_length'].fillna(df['person_emp_length'].mean())"
   ]
  },
  {
   "cell_type": "code",
   "execution_count": 51,
   "id": "3980bd45-29e8-4d86-9476-365dee125c19",
   "metadata": {},
   "outputs": [],
   "source": [
    "mean_loan_int_rate_by_grade = df.groupby('loan_grade')['loan_int_rate'].mean()"
   ]
  },
  {
   "cell_type": "code",
   "execution_count": 52,
   "id": "f50933f1-8709-4603-b67d-44f31fb58b83",
   "metadata": {},
   "outputs": [],
   "source": [
    "def fill_loan_int_rate(row):\n",
    "    if pd.isnull(row['loan_int_rate']):\n",
    "        return mean_loan_int_rate_by_grade[row['loan_grade']]\n",
    "    else:\n",
    "        return row['loan_int_rate']"
   ]
  },
  {
   "cell_type": "code",
   "execution_count": 53,
   "id": "11ba9a56-b132-4624-b5d8-7c2d605af83d",
   "metadata": {},
   "outputs": [],
   "source": [
    "df['loan_int_rate'] = df.apply(fill_loan_int_rate, axis=1)"
   ]
  },
  {
   "cell_type": "markdown",
   "id": "5113f0e6-c356-491a-ad97-02e2a7394b07",
   "metadata": {},
   "source": [
    "### Understanding each column"
   ]
  },
  {
   "cell_type": "code",
   "execution_count": 54,
   "id": "5dfc8952-13ab-4cf0-884b-982d94796526",
   "metadata": {},
   "outputs": [
    {
     "data": {
      "text/plain": [
       "Index(['person_age', 'person_income', 'person_home_ownership',\n",
       "       'person_emp_length', 'loan_intent', 'loan_grade', 'loan_amnt',\n",
       "       'loan_int_rate', 'loan_status', 'loan_percent_income',\n",
       "       'cb_person_default_on_file', 'cb_person_cred_hist_length'],\n",
       "      dtype='object')"
      ]
     },
     "execution_count": 54,
     "metadata": {},
     "output_type": "execute_result"
    }
   ],
   "source": [
    "df.columns"
   ]
  },
  {
   "cell_type": "markdown",
   "id": "66be80be-283d-406b-b862-ca1b85717538",
   "metadata": {},
   "source": [
    "#### Person Home Ownership"
   ]
  },
  {
   "cell_type": "markdown",
   "id": "7c33be17-0f2e-4124-a250-ed90beb876ff",
   "metadata": {},
   "source": [
    "The ownership of someone home (kepemilikan rumah)"
   ]
  },
  {
   "cell_type": "code",
   "execution_count": 55,
   "id": "1d58ad05-908c-4d71-a759-0f9848e012fa",
   "metadata": {},
   "outputs": [
    {
     "data": {
      "text/plain": [
       "RENT        14498\n",
       "MORTGAGE    11736\n",
       "OWN          2174\n",
       "OTHER          93\n",
       "Name: person_home_ownership, dtype: int64"
      ]
     },
     "execution_count": 55,
     "metadata": {},
     "output_type": "execute_result"
    }
   ],
   "source": [
    "df['person_home_ownership'].value_counts()"
   ]
  },
  {
   "cell_type": "markdown",
   "id": "5e818f1e-1d1b-480b-ab49-c13b5ec0755c",
   "metadata": {},
   "source": [
    "Nothing weird, nothing strange here"
   ]
  },
  {
   "cell_type": "markdown",
   "id": "97499ea4-ce70-4a27-a4c5-9c8eac5d008a",
   "metadata": {},
   "source": [
    "#### Loan Intent"
   ]
  },
  {
   "cell_type": "markdown",
   "id": "55251af4-a594-4d4e-ae96-609f358fed98",
   "metadata": {},
   "source": [
    "Loan interest (alasan ambil pinjaman)"
   ]
  },
  {
   "cell_type": "code",
   "execution_count": 56,
   "id": "37aa7e55-8ba0-4ce6-998f-c2e6390e400a",
   "metadata": {},
   "outputs": [
    {
     "data": {
      "text/plain": [
       "EDUCATION            5670\n",
       "MEDICAL              5269\n",
       "VENTURE              4969\n",
       "PERSONAL             4859\n",
       "DEBTCONSOLIDATION    4547\n",
       "HOMEIMPROVEMENT      3187\n",
       "Name: loan_intent, dtype: int64"
      ]
     },
     "execution_count": 56,
     "metadata": {},
     "output_type": "execute_result"
    }
   ],
   "source": [
    "df['loan_intent'].value_counts()"
   ]
  },
  {
   "cell_type": "markdown",
   "id": "d2918b67-47ab-45ef-8d98-4cf3e1f730cb",
   "metadata": {},
   "source": [
    "There is nothing annomaly too here"
   ]
  },
  {
   "cell_type": "markdown",
   "id": "d4433c32-503a-4d53-b298-531541c22ec5",
   "metadata": {},
   "source": [
    "#### Loan Grade"
   ]
  },
  {
   "cell_type": "markdown",
   "id": "988e3770-0a19-4343-93a6-50551a9514ad",
   "metadata": {},
   "source": [
    "Loan rate (tingkat pinjaman)"
   ]
  },
  {
   "cell_type": "code",
   "execution_count": 57,
   "id": "1315abf1-ca82-4b7c-af1e-8f0be771b2fa",
   "metadata": {},
   "outputs": [
    {
     "data": {
      "text/plain": [
       "A    9345\n",
       "B    9094\n",
       "C    5682\n",
       "D    3243\n",
       "E     869\n",
       "F     209\n",
       "G      59\n",
       "Name: loan_grade, dtype: int64"
      ]
     },
     "execution_count": 57,
     "metadata": {},
     "output_type": "execute_result"
    }
   ],
   "source": [
    "df['loan_grade'].value_counts()"
   ]
  },
  {
   "cell_type": "markdown",
   "id": "987a3843-47b6-4279-9dbd-6c6a58072a8b",
   "metadata": {},
   "source": [
    "There are so many loans. i think A is the lowest rank and G the highest rank which is so many credits"
   ]
  },
  {
   "cell_type": "markdown",
   "id": "312f474c-e2da-42d2-9a96-8248c4ee696e",
   "metadata": {},
   "source": [
    "#### Failed to pay"
   ]
  },
  {
   "cell_type": "markdown",
   "id": "7b04e682-7de7-4fd7-a784-11f15a1e84f9",
   "metadata": {},
   "source": [
    "Failed to pay in their history (gagal bayar)"
   ]
  },
  {
   "cell_type": "code",
   "execution_count": 58,
   "id": "dbe33523-65ee-4ac9-a940-af957d0b23dc",
   "metadata": {},
   "outputs": [
    {
     "data": {
      "text/plain": [
       "N    23411\n",
       "Y     5090\n",
       "Name: cb_person_default_on_file, dtype: int64"
      ]
     },
     "execution_count": 58,
     "metadata": {},
     "output_type": "execute_result"
    }
   ],
   "source": [
    "df['cb_person_default_on_file'].value_counts()"
   ]
  },
  {
   "cell_type": "markdown",
   "id": "8247b7c9-dd6a-4ca5-9bc0-344d087aba2b",
   "metadata": {},
   "source": [
    "### Binary Value Label Encoder"
   ]
  },
  {
   "cell_type": "code",
   "execution_count": 59,
   "id": "45ff91a9-0f81-43c5-a55a-f84577610f50",
   "metadata": {},
   "outputs": [],
   "source": [
    "df['cb_person_default_on_file'] = LabelEncoder().fit_transform(df['cb_person_default_on_file'])"
   ]
  },
  {
   "cell_type": "code",
   "execution_count": 60,
   "id": "1aa8518b-2335-4dfc-95e7-5811b2d5675e",
   "metadata": {},
   "outputs": [],
   "source": [
    "df = pd.get_dummies(df, columns=['person_home_ownership', 'loan_intent', 'loan_grade', 'cb_person_default_on_file'])"
   ]
  },
  {
   "cell_type": "code",
   "execution_count": 61,
   "id": "69ca2cd9-23fe-4fa6-bf01-5f770f7a462e",
   "metadata": {},
   "outputs": [
    {
     "name": "stdout",
     "output_type": "stream",
     "text": [
      "<class 'pandas.core.frame.DataFrame'>\n",
      "Int64Index: 28501 entries, 0 to 32580\n",
      "Data columns (total 27 columns):\n",
      " #   Column                          Non-Null Count  Dtype  \n",
      "---  ------                          --------------  -----  \n",
      " 0   person_age                      28501 non-null  int64  \n",
      " 1   person_income                   28501 non-null  int64  \n",
      " 2   person_emp_length               28501 non-null  float64\n",
      " 3   loan_amnt                       28501 non-null  int64  \n",
      " 4   loan_int_rate                   28501 non-null  float64\n",
      " 5   loan_status                     28501 non-null  int64  \n",
      " 6   loan_percent_income             28501 non-null  float64\n",
      " 7   cb_person_cred_hist_length      28501 non-null  int64  \n",
      " 8   person_home_ownership_MORTGAGE  28501 non-null  uint8  \n",
      " 9   person_home_ownership_OTHER     28501 non-null  uint8  \n",
      " 10  person_home_ownership_OWN       28501 non-null  uint8  \n",
      " 11  person_home_ownership_RENT      28501 non-null  uint8  \n",
      " 12  loan_intent_DEBTCONSOLIDATION   28501 non-null  uint8  \n",
      " 13  loan_intent_EDUCATION           28501 non-null  uint8  \n",
      " 14  loan_intent_HOMEIMPROVEMENT     28501 non-null  uint8  \n",
      " 15  loan_intent_MEDICAL             28501 non-null  uint8  \n",
      " 16  loan_intent_PERSONAL            28501 non-null  uint8  \n",
      " 17  loan_intent_VENTURE             28501 non-null  uint8  \n",
      " 18  loan_grade_A                    28501 non-null  uint8  \n",
      " 19  loan_grade_B                    28501 non-null  uint8  \n",
      " 20  loan_grade_C                    28501 non-null  uint8  \n",
      " 21  loan_grade_D                    28501 non-null  uint8  \n",
      " 22  loan_grade_E                    28501 non-null  uint8  \n",
      " 23  loan_grade_F                    28501 non-null  uint8  \n",
      " 24  loan_grade_G                    28501 non-null  uint8  \n",
      " 25  cb_person_default_on_file_0     28501 non-null  uint8  \n",
      " 26  cb_person_default_on_file_1     28501 non-null  uint8  \n",
      "dtypes: float64(3), int64(5), uint8(19)\n",
      "memory usage: 2.5 MB\n"
     ]
    }
   ],
   "source": [
    "df.info()"
   ]
  },
  {
   "cell_type": "markdown",
   "id": "05a43baf-6e53-4f75-ad82-7460f954b604",
   "metadata": {},
   "source": [
    "### Split Dataset"
   ]
  },
  {
   "cell_type": "code",
   "execution_count": 62,
   "id": "cfd6e94b-30d2-4abc-8d54-4672ea056c88",
   "metadata": {},
   "outputs": [],
   "source": [
    "X = df.drop('loan_status', axis=1)\n",
    "y = df['loan_status']"
   ]
  },
  {
   "cell_type": "code",
   "execution_count": 63,
   "id": "64311147-74b7-4afb-8c66-6f22da59e650",
   "metadata": {},
   "outputs": [
    {
     "ename": "NameError",
     "evalue": "name 'SMOTE' is not defined",
     "output_type": "error",
     "traceback": [
      "\u001b[1;31m---------------------------------------------------------------------------\u001b[0m",
      "\u001b[1;31mNameError\u001b[0m                                 Traceback (most recent call last)",
      "Cell \u001b[1;32mIn[63], line 1\u001b[0m\n\u001b[1;32m----> 1\u001b[0m smote \u001b[38;5;241m=\u001b[39m \u001b[43mSMOTE\u001b[49m(random_state\u001b[38;5;241m=\u001b[39m\u001b[38;5;241m42\u001b[39m)\n\u001b[0;32m      2\u001b[0m X_resampled, y_resampled \u001b[38;5;241m=\u001b[39m smote\u001b[38;5;241m.\u001b[39mfit_resample(X, y)\n",
      "\u001b[1;31mNameError\u001b[0m: name 'SMOTE' is not defined"
     ]
    }
   ],
   "source": [
    "smote = SMOTE(random_state=42)\n",
    "X_resampled, y_resampled = smote.fit_resample(X, y)"
   ]
  },
  {
   "cell_type": "markdown",
   "id": "49e36186-e569-4558-a0ca-69cef8e5ba4c",
   "metadata": {},
   "source": [
    "### Normalization"
   ]
  },
  {
   "cell_type": "code",
   "execution_count": 64,
   "id": "77697e41-d170-4aea-8b9c-127583a8b0a0",
   "metadata": {},
   "outputs": [
    {
     "ename": "NameError",
     "evalue": "name 'X_resampled' is not defined",
     "output_type": "error",
     "traceback": [
      "\u001b[1;31m---------------------------------------------------------------------------\u001b[0m",
      "\u001b[1;31mNameError\u001b[0m                                 Traceback (most recent call last)",
      "Cell \u001b[1;32mIn[64], line 1\u001b[0m\n\u001b[1;32m----> 1\u001b[0m X_scaled \u001b[38;5;241m=\u001b[39m pd\u001b[38;5;241m.\u001b[39mDataFrame(StandardScaler()\u001b[38;5;241m.\u001b[39mfit_transform(\u001b[43mX_resampled\u001b[49m), columns \u001b[38;5;241m=\u001b[39m X\u001b[38;5;241m.\u001b[39mcolumns)\n\u001b[0;32m      2\u001b[0m X_scaled\u001b[38;5;241m.\u001b[39mhead()\n",
      "\u001b[1;31mNameError\u001b[0m: name 'X_resampled' is not defined"
     ]
    }
   ],
   "source": [
    "X_scaled = pd.DataFrame(StandardScaler().fit_transform(X_resampled), columns = X.columns)\n",
    "X_scaled.head()"
   ]
  },
  {
   "cell_type": "code",
   "execution_count": 65,
   "id": "4dc6f395-88fa-49ec-9c60-97b48aea7c4c",
   "metadata": {},
   "outputs": [
    {
     "ename": "NameError",
     "evalue": "name 'y_resampled' is not defined",
     "output_type": "error",
     "traceback": [
      "\u001b[1;31m---------------------------------------------------------------------------\u001b[0m",
      "\u001b[1;31mNameError\u001b[0m                                 Traceback (most recent call last)",
      "Cell \u001b[1;32mIn[65], line 1\u001b[0m\n\u001b[1;32m----> 1\u001b[0m y_scaled \u001b[38;5;241m=\u001b[39m to_categorical(LabelEncoder()\u001b[38;5;241m.\u001b[39mfit_transform(\u001b[43my_resampled\u001b[49m))\n\u001b[0;32m      2\u001b[0m y_scaled\n",
      "\u001b[1;31mNameError\u001b[0m: name 'y_resampled' is not defined"
     ]
    }
   ],
   "source": [
    "y_scaled = to_categorical(LabelEncoder().fit_transform(y_resampled))\n",
    "y_scaled"
   ]
  },
  {
   "cell_type": "code",
   "execution_count": 66,
   "id": "3c3abf87-bd98-4812-9ae4-bf5f220901e1",
   "metadata": {},
   "outputs": [],
   "source": [
    "X_train, X_test, y_train, y_test = train_test_split(X_scaled, y_scaled, test_size=0.3, random_state=42)\n",
    "X_train, X_val, y_train, y_val = train_test_split(X_train, y_train, test_size=0.2, random_state=42)"
   ]
  },
  {
   "cell_type": "code",
   "execution_count": 67,
   "id": "33c03786-d04a-4865-a9ff-d8cb3a14f0f9",
   "metadata": {},
   "outputs": [
    {
     "data": {
      "text/plain": [
       "((15960, 26), (15960, 2))"
      ]
     },
     "execution_count": 67,
     "metadata": {},
     "output_type": "execute_result"
    }
   ],
   "source": [
    "X_train.shape, y_train.shape"
   ]
  },
  {
   "cell_type": "code",
   "execution_count": 68,
   "id": "de44decb-ebad-4a53-80ce-5c27b8385e63",
   "metadata": {},
   "outputs": [
    {
     "data": {
      "text/plain": [
       "((3990, 26), (3990, 2))"
      ]
     },
     "execution_count": 68,
     "metadata": {},
     "output_type": "execute_result"
    }
   ],
   "source": [
    "X_val.shape, y_val.shape"
   ]
  },
  {
   "cell_type": "code",
   "execution_count": 69,
   "id": "495e64bb-6428-4c0a-a3c6-deb19349afbb",
   "metadata": {},
   "outputs": [
    {
     "data": {
      "text/plain": [
       "((8551, 26), (8551, 2))"
      ]
     },
     "execution_count": 69,
     "metadata": {},
     "output_type": "execute_result"
    }
   ],
   "source": [
    "X_test.shape, y_test.shape"
   ]
  },
  {
   "cell_type": "markdown",
   "id": "b40ff552-f556-4060-bcb6-baf457519707",
   "metadata": {},
   "source": [
    "## Create ANN Moodel"
   ]
  },
  {
   "cell_type": "markdown",
   "id": "175b2ca1-d2e2-4b28-8f9f-160efb4d1318",
   "metadata": {},
   "source": [
    "This one would be so satisfying"
   ]
  },
  {
   "cell_type": "code",
   "execution_count": 70,
   "id": "1b832eaa-ef63-49bd-98e2-9158f95062cf",
   "metadata": {},
   "outputs": [],
   "source": [
    "early_stop = tf.keras.callbacks.EarlyStopping(monitor = \"val_loss\", patience = 10)\n",
    "layers = [\n",
    "    Input((X_train.shape[1], )),\n",
    "    Dropout(0.2),\n",
    "    Dense(256, activation='relu'),\n",
    "    Dropout(0.2),\n",
    "    Dense(128, activation='relu'),\n",
    "    Dense(2, activation='sigmoid'),\n",
    "]\n",
    "epochs = 100"
   ]
  },
  {
   "cell_type": "markdown",
   "id": "1c447751-a2e1-4456-8c58-cf2cae07da50",
   "metadata": {},
   "source": [
    "### Adam (Adaptive Moment Estimation)"
   ]
  },
  {
   "cell_type": "code",
   "execution_count": 71,
   "id": "f3958283-f936-4c73-8647-68fef55852d3",
   "metadata": {},
   "outputs": [],
   "source": [
    "model_adam = tf.keras.Sequential([\n",
    "    Input((X_train.shape[1], )),\n",
    "    Dense(43, activation='relu'),\n",
    "    Dropout(0.2),\n",
    "    Dense(29, activation='relu'),\n",
    "    Dropout(0.3),\n",
    "    Dense(24, activation='relu'),\n",
    "    Dropout(0.4),\n",
    "    Dense(2, activation='sigmoid'),\n",
    "])"
   ]
  },
  {
   "cell_type": "code",
   "execution_count": null,
   "id": "054034ec-3cb3-429a-affb-f881844750a7",
   "metadata": {},
   "outputs": [
    {
     "name": "stdout",
     "output_type": "stream",
     "text": [
      "Adam (Adaptpive Moment Estimation) Gradient Descent\n",
      "Epoch 1/20\n"
     ]
    }
   ],
   "source": [
    "model_adam.compile(optimizer=keras.optimizers.Adam(learning_rate=0.002), loss='binary_crossentropy', metrics=['accuracy'])\n",
    "print(\"Adam (Adaptpive Moment Estimation) Gradient Descent\")\n",
    "hist_adam = model_adam.fit(X_train, y_train, validation_data=(X_val, y_val), batch_size=32, epochs=20)"
   ]
  },
  {
   "cell_type": "code",
   "execution_count": null,
   "id": "592eab47-5897-47fa-b67e-85acd31769f6",
   "metadata": {},
   "outputs": [],
   "source": [
    "loss_adam = hist_adam.history['loss']\n",
    "val_loss_adam = hist_adam.history['val_loss']\n",
    "\n",
    "plt.plot(loss_adam, label='Adam - Training Loss')\n",
    "plt.plot(val_loss_adam, label='Adam - Validation Loss')\n",
    "\n",
    "# Add labels and title\n",
    "plt.xlabel('Epochs')\n",
    "plt.ylabel('Loss')\n",
    "plt.title('Adam Training and Validation Loss')\n",
    "plt.legend()\n",
    "plt.show()"
   ]
  },
  {
   "cell_type": "markdown",
   "id": "35ee3133-e61b-44a4-8891-6d5a4d7dbbbc",
   "metadata": {},
   "source": [
    "## Accuracies"
   ]
  },
  {
   "cell_type": "code",
   "execution_count": null,
   "id": "c23b5afc-ecbf-4f45-b055-c43228406c88",
   "metadata": {},
   "outputs": [],
   "source": [
    "def calculate_average_accuracy(history, name):\n",
    "    avg_accuracy = np.mean(history.history['accuracy'])\n",
    "    avg_val_accuracy = np.mean(history.history['val_accuracy'])\n",
    "    return avg_accuracy, avg_val_accuracy\n",
    "\n",
    "models = [\n",
    "    (hist_sgd, 'SGD'),\n",
    "    (hist_minibatch, 'Mini-batch'),\n",
    "    (hist_moment, 'Momentum'),\n",
    "    (hist_rmsprop, 'RMSprop'),\n",
    "    (hist_adam, 'Adam')\n",
    "]\n",
    "\n",
    "avg_accuracies = []\n",
    "avg_val_accuracies = []\n",
    "model_names = []\n",
    "\n",
    "for history, name in models:\n",
    "    avg_accuracy, avg_val_accuracy = calculate_average_accuracy(history, name)\n",
    "    avg_accuracies.append(avg_accuracy)\n",
    "    avg_val_accuracies.append(avg_val_accuracy)\n",
    "    model_names.append(name)\n",
    "    print(f'Average Training Accuracy for {name}: {avg_accuracy:.4f}')\n",
    "    print(f'Average Validation Accuracy for {name}: {avg_val_accuracy:.4f}\\n')\n",
    "\n",
    "# Plot average accuracies\n",
    "x = np.arange(len(model_names))\n",
    "\n",
    "plt.figure(figsize=(12, 8))\n",
    "plt.bar(x - 0.2, avg_accuracies, 0.4, label='Training Accuracy')\n",
    "plt.bar(x + 0.2, avg_val_accuracies, 0.4, label='Validation Accuracy')\n",
    "\n",
    "plt.xlabel('Models')\n",
    "plt.ylabel('Accuracy')\n",
    "plt.title('Average Training and Validation Accuracy for Different Models')\n",
    "plt.xticks(x, model_names)\n",
    "plt.legend()\n",
    "plt.show()"
   ]
  },
  {
   "cell_type": "code",
   "execution_count": null,
   "id": "d10580ca-e3f9-42d3-8269-9e8424f2da55",
   "metadata": {},
   "outputs": [],
   "source": [
    "threshold = 0.5\n",
    "\n",
    "y_pred_sgd = model_sgd.predict(X_test)\n",
    "\n",
    "# Convert probabilities to binary predictions for each model\n",
    "y_pred_sgd_binary = (y_pred_sgd > threshold).astype(int)\n",
    "# y_pred_minibatch_binary = (y_pred_minibatch > threshold).astype(int)\n",
    "# y_pred_moment_binary = (y_pred_moment > threshold).astype(int)\n",
    "# y_pred_rmsprop_binary = (y_pred_rmsprop > threshold).astype(int)\n",
    "# y_pred_adam_binary = (y_pred_adam > threshold).astype(int)\n",
    "\n",
    "# Compute multilabel confusion matrices for each model\n",
    "cm_sgd_multilabel = multilabel_confusion_matrix(y_test, y_pred_sgd_binary)\n",
    "# cm_minibatch_multilabel = multilabel_confusion_matrix(y_test, y_pred_minibatch_binary)\n",
    "# cm_moment_multilabel = multilabel_confusion_matrix(y_test, y_pred_moment_binary)\n",
    "# cm_rmsprop_multilabel = multilabel_confusion_matrix(y_test, y_pred_rmsprop_binary)\n",
    "# cm_adam_multilabel = multilabel_confusion_matrix(y_test, y_pred_adam_binary)\n",
    "\n",
    "print(\"Multilabel Confusion Matrix for SGD Model:\")\n",
    "print(cm_sgd_multilabel[0])\n",
    "# print(\"\\nMultilabel Confusion Matrix for Mini-batch Model:\")\n",
    "# print(cm_minibatch_multilabel[0])\n",
    "# print(\"\\nMultilabel Confusion Matrix for Momentum Model:\")\n",
    "# print(cm_moment_multilabel[0])\n",
    "# print(\"\\nMultilabel Confusion Matrix for RMSProp Model:\")\n",
    "# print(cm_rmsprop_multilabel[0])\n",
    "# print(\"\\nMultilabel Confusion Matrix for Adam Model:\")\n",
    "# print(cm_adam_multilabel[0])\n",
    "\n",
    "def print_classification_report(y_true, y_pred, model_name):\n",
    "    report = classification_report(y_true, y_pred)\n",
    "    print(f\"Classification Report for {model_name}:\")\n",
    "    print(report)\n",
    "    print(\"\\n\")\n",
    "\n",
    "# Print classification report for each model\n",
    "print_classification_report(y_test, y_pred_sgd_binary, \"SGD Model\")\n",
    "# print_classification_report(y_test, y_pred_minibatch_binary, \"Mini-batch Model\")\n",
    "# print_classification_report(y_test, y_pred_moment_binary, \"Momentum Model\")\n",
    "# print_classification_report(y_test, y_pred_rmsprop_binary, \"RMSProp Model\")\n",
    "# print_classification_report(y_test, y_pred_adam_binary, \"Adam Model\")"
   ]
  },
  {
   "cell_type": "code",
   "execution_count": null,
   "id": "471752b9-74eb-4b5e-b0ff-9033cbfe6386",
   "metadata": {},
   "outputs": [],
   "source": []
  }
 ],
 "metadata": {
  "kernelspec": {
   "display_name": "Python 3 (ipykernel)",
   "language": "python",
   "name": "python3"
  },
  "language_info": {
   "codemirror_mode": {
    "name": "ipython",
    "version": 3
   },
   "file_extension": ".py",
   "mimetype": "text/x-python",
   "name": "python",
   "nbconvert_exporter": "python",
   "pygments_lexer": "ipython3",
   "version": "3.11.4"
  }
 },
 "nbformat": 4,
 "nbformat_minor": 5
}
